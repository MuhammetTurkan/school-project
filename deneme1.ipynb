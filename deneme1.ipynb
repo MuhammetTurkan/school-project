{
 "cells": [
  {
   "cell_type": "code",
   "execution_count": 1,
   "metadata": {},
   "outputs": [
    {
     "name": "stdout",
     "output_type": "stream",
     "text": [
      "../Donem Projesi/deneme1.ipynb\n",
      "../Donem Projesi/.ipynb_checkpoints\\deneme1-checkpoint.ipynb\n",
      "../Donem Projesi/animals_sounds_yamnet\\keras_metadata.pb\n",
      "../Donem Projesi/animals_sounds_yamnet\\saved_model.pb\n",
      "../Donem Projesi/animals_sounds_yamnet\\assets\\yamnet_class_map.csv\n",
      "../Donem Projesi/animals_sounds_yamnet\\variables\\variables.data-00000-of-00001\n",
      "../Donem Projesi/animals_sounds_yamnet\\variables\\variables.index\n",
      "../Donem Projesi/animal_sounds\\birds\\bird (1).wav\n",
      "../Donem Projesi/animal_sounds\\birds\\bird (10).wav\n",
      "../Donem Projesi/animal_sounds\\birds\\bird (100).wav\n",
      "../Donem Projesi/animal_sounds\\birds\\bird (101).wav\n",
      "../Donem Projesi/animal_sounds\\birds\\bird (102).wav\n",
      "../Donem Projesi/animal_sounds\\birds\\bird (103).wav\n",
      "../Donem Projesi/animal_sounds\\birds\\bird (104).wav\n",
      "../Donem Projesi/animal_sounds\\birds\\bird (105).wav\n",
      "../Donem Projesi/animal_sounds\\birds\\bird (106).wav\n",
      "../Donem Projesi/animal_sounds\\birds\\bird (107).wav\n",
      "../Donem Projesi/animal_sounds\\birds\\bird (108).wav\n",
      "../Donem Projesi/animal_sounds\\birds\\bird (109).wav\n",
      "../Donem Projesi/animal_sounds\\birds\\bird (11).wav\n",
      "../Donem Projesi/animal_sounds\\birds\\bird (110).wav\n",
      "../Donem Projesi/animal_sounds\\birds\\bird (111).wav\n",
      "../Donem Projesi/animal_sounds\\birds\\bird (112).wav\n",
      "../Donem Projesi/animal_sounds\\birds\\bird (113).wav\n",
      "../Donem Projesi/animal_sounds\\birds\\bird (114).wav\n",
      "../Donem Projesi/animal_sounds\\birds\\bird (115).wav\n",
      "../Donem Projesi/animal_sounds\\birds\\bird (116).wav\n",
      "../Donem Projesi/animal_sounds\\birds\\bird (117).wav\n",
      "../Donem Projesi/animal_sounds\\birds\\bird (118).wav\n",
      "../Donem Projesi/animal_sounds\\birds\\bird (119).wav\n",
      "../Donem Projesi/animal_sounds\\birds\\bird (12).wav\n",
      "../Donem Projesi/animal_sounds\\birds\\bird (120).wav\n",
      "../Donem Projesi/animal_sounds\\birds\\bird (121).wav\n",
      "../Donem Projesi/animal_sounds\\birds\\bird (122).wav\n",
      "../Donem Projesi/animal_sounds\\birds\\bird (123).wav\n",
      "../Donem Projesi/animal_sounds\\birds\\bird (124).wav\n",
      "../Donem Projesi/animal_sounds\\birds\\bird (125).wav\n",
      "../Donem Projesi/animal_sounds\\birds\\bird (126).wav\n",
      "../Donem Projesi/animal_sounds\\birds\\bird (127).wav\n",
      "../Donem Projesi/animal_sounds\\birds\\bird (13).wav\n",
      "../Donem Projesi/animal_sounds\\birds\\bird (14).wav\n",
      "../Donem Projesi/animal_sounds\\birds\\bird (15).wav\n",
      "../Donem Projesi/animal_sounds\\birds\\bird (16).wav\n",
      "../Donem Projesi/animal_sounds\\birds\\bird (17).wav\n",
      "../Donem Projesi/animal_sounds\\birds\\bird (18).wav\n",
      "../Donem Projesi/animal_sounds\\birds\\bird (19).wav\n",
      "../Donem Projesi/animal_sounds\\birds\\bird (2).wav\n",
      "../Donem Projesi/animal_sounds\\birds\\bird (20).wav\n",
      "../Donem Projesi/animal_sounds\\birds\\bird (21).wav\n",
      "../Donem Projesi/animal_sounds\\birds\\bird (22).wav\n",
      "../Donem Projesi/animal_sounds\\birds\\bird (23).wav\n",
      "../Donem Projesi/animal_sounds\\birds\\bird (24).wav\n",
      "../Donem Projesi/animal_sounds\\birds\\bird (25).wav\n",
      "../Donem Projesi/animal_sounds\\birds\\bird (26).wav\n",
      "../Donem Projesi/animal_sounds\\birds\\bird (27).wav\n",
      "../Donem Projesi/animal_sounds\\birds\\bird (28).wav\n",
      "../Donem Projesi/animal_sounds\\birds\\bird (29).wav\n",
      "../Donem Projesi/animal_sounds\\birds\\bird (3).wav\n",
      "../Donem Projesi/animal_sounds\\birds\\bird (30).wav\n",
      "../Donem Projesi/animal_sounds\\birds\\bird (31).wav\n",
      "../Donem Projesi/animal_sounds\\birds\\bird (32).wav\n",
      "../Donem Projesi/animal_sounds\\birds\\bird (33).wav\n",
      "../Donem Projesi/animal_sounds\\birds\\bird (34).wav\n",
      "../Donem Projesi/animal_sounds\\birds\\bird (35).wav\n",
      "../Donem Projesi/animal_sounds\\birds\\bird (36).wav\n",
      "../Donem Projesi/animal_sounds\\birds\\bird (37).wav\n",
      "../Donem Projesi/animal_sounds\\birds\\bird (38).wav\n",
      "../Donem Projesi/animal_sounds\\birds\\bird (39).wav\n",
      "../Donem Projesi/animal_sounds\\birds\\bird (4).wav\n",
      "../Donem Projesi/animal_sounds\\birds\\bird (40).wav\n",
      "../Donem Projesi/animal_sounds\\birds\\bird (41).wav\n",
      "../Donem Projesi/animal_sounds\\birds\\bird (42).wav\n",
      "../Donem Projesi/animal_sounds\\birds\\bird (43).wav\n",
      "../Donem Projesi/animal_sounds\\birds\\bird (44).wav\n",
      "../Donem Projesi/animal_sounds\\birds\\bird (45).wav\n",
      "../Donem Projesi/animal_sounds\\birds\\bird (46).wav\n",
      "../Donem Projesi/animal_sounds\\birds\\bird (47).wav\n",
      "../Donem Projesi/animal_sounds\\birds\\bird (48).wav\n",
      "../Donem Projesi/animal_sounds\\birds\\bird (49).wav\n",
      "../Donem Projesi/animal_sounds\\birds\\bird (5).wav\n",
      "../Donem Projesi/animal_sounds\\birds\\bird (50).wav\n",
      "../Donem Projesi/animal_sounds\\birds\\bird (51).wav\n",
      "../Donem Projesi/animal_sounds\\birds\\bird (52).wav\n",
      "../Donem Projesi/animal_sounds\\birds\\bird (53).wav\n",
      "../Donem Projesi/animal_sounds\\birds\\bird (54).wav\n",
      "../Donem Projesi/animal_sounds\\birds\\bird (55).wav\n",
      "../Donem Projesi/animal_sounds\\birds\\bird (56).wav\n",
      "../Donem Projesi/animal_sounds\\birds\\bird (57).wav\n",
      "../Donem Projesi/animal_sounds\\birds\\bird (58).wav\n",
      "../Donem Projesi/animal_sounds\\birds\\bird (59).wav\n",
      "../Donem Projesi/animal_sounds\\birds\\bird (6).wav\n",
      "../Donem Projesi/animal_sounds\\birds\\bird (60).wav\n",
      "../Donem Projesi/animal_sounds\\birds\\bird (61).wav\n",
      "../Donem Projesi/animal_sounds\\birds\\bird (62).wav\n",
      "../Donem Projesi/animal_sounds\\birds\\bird (63).wav\n",
      "../Donem Projesi/animal_sounds\\birds\\bird (64).wav\n",
      "../Donem Projesi/animal_sounds\\birds\\bird (65).wav\n",
      "../Donem Projesi/animal_sounds\\birds\\bird (66).wav\n",
      "../Donem Projesi/animal_sounds\\birds\\bird (67).wav\n",
      "../Donem Projesi/animal_sounds\\birds\\bird (68).wav\n",
      "../Donem Projesi/animal_sounds\\birds\\bird (69).wav\n",
      "../Donem Projesi/animal_sounds\\birds\\bird (7).wav\n",
      "../Donem Projesi/animal_sounds\\birds\\bird (70).wav\n",
      "../Donem Projesi/animal_sounds\\birds\\bird (71).wav\n",
      "../Donem Projesi/animal_sounds\\birds\\bird (72).wav\n",
      "../Donem Projesi/animal_sounds\\birds\\bird (73).wav\n",
      "../Donem Projesi/animal_sounds\\birds\\bird (74).wav\n",
      "../Donem Projesi/animal_sounds\\birds\\bird (75).wav\n",
      "../Donem Projesi/animal_sounds\\birds\\bird (76).wav\n",
      "../Donem Projesi/animal_sounds\\birds\\bird (77).wav\n",
      "../Donem Projesi/animal_sounds\\birds\\bird (78).wav\n",
      "../Donem Projesi/animal_sounds\\birds\\bird (79).wav\n",
      "../Donem Projesi/animal_sounds\\birds\\bird (8).wav\n",
      "../Donem Projesi/animal_sounds\\birds\\bird (80).wav\n",
      "../Donem Projesi/animal_sounds\\birds\\bird (81).wav\n",
      "../Donem Projesi/animal_sounds\\birds\\bird (82).wav\n",
      "../Donem Projesi/animal_sounds\\birds\\bird (83).wav\n",
      "../Donem Projesi/animal_sounds\\birds\\bird (84).wav\n",
      "../Donem Projesi/animal_sounds\\birds\\bird (85).wav\n",
      "../Donem Projesi/animal_sounds\\birds\\bird (86).wav\n",
      "../Donem Projesi/animal_sounds\\birds\\bird (87).wav\n",
      "../Donem Projesi/animal_sounds\\birds\\bird (88).wav\n",
      "../Donem Projesi/animal_sounds\\birds\\bird (89).wav\n",
      "../Donem Projesi/animal_sounds\\birds\\bird (9).wav\n",
      "../Donem Projesi/animal_sounds\\birds\\bird (90).wav\n",
      "../Donem Projesi/animal_sounds\\birds\\bird (91).wav\n",
      "../Donem Projesi/animal_sounds\\birds\\bird (92).wav\n",
      "../Donem Projesi/animal_sounds\\birds\\bird (93).wav\n",
      "../Donem Projesi/animal_sounds\\birds\\bird (94).wav\n",
      "../Donem Projesi/animal_sounds\\birds\\bird (95).wav\n",
      "../Donem Projesi/animal_sounds\\birds\\bird (96).wav\n",
      "../Donem Projesi/animal_sounds\\birds\\bird (97).wav\n",
      "../Donem Projesi/animal_sounds\\birds\\bird (98).wav\n",
      "../Donem Projesi/animal_sounds\\birds\\bird (99).wav\n",
      "../Donem Projesi/animal_sounds\\cats\\cat_1.wav\n",
      "../Donem Projesi/animal_sounds\\cats\\cat_10.wav\n",
      "../Donem Projesi/animal_sounds\\cats\\cat_100.wav\n",
      "../Donem Projesi/animal_sounds\\cats\\cat_101.wav\n",
      "../Donem Projesi/animal_sounds\\cats\\cat_102.wav\n",
      "../Donem Projesi/animal_sounds\\cats\\cat_103.wav\n",
      "../Donem Projesi/animal_sounds\\cats\\cat_105.wav\n",
      "../Donem Projesi/animal_sounds\\cats\\cat_106.wav\n",
      "../Donem Projesi/animal_sounds\\cats\\cat_107.wav\n",
      "../Donem Projesi/animal_sounds\\cats\\cat_108.wav\n",
      "../Donem Projesi/animal_sounds\\cats\\cat_109.wav\n",
      "../Donem Projesi/animal_sounds\\cats\\cat_11.wav\n",
      "../Donem Projesi/animal_sounds\\cats\\cat_110.wav\n",
      "../Donem Projesi/animal_sounds\\cats\\cat_112.wav\n",
      "../Donem Projesi/animal_sounds\\cats\\cat_113.wav\n",
      "../Donem Projesi/animal_sounds\\cats\\cat_114.wav\n",
      "../Donem Projesi/animal_sounds\\cats\\cat_115.wav\n",
      "../Donem Projesi/animal_sounds\\cats\\cat_116.wav\n",
      "../Donem Projesi/animal_sounds\\cats\\cat_117.wav\n",
      "../Donem Projesi/animal_sounds\\cats\\cat_118.wav\n",
      "../Donem Projesi/animal_sounds\\cats\\cat_119.wav\n",
      "../Donem Projesi/animal_sounds\\cats\\cat_12.wav\n",
      "../Donem Projesi/animal_sounds\\cats\\cat_120.wav\n",
      "../Donem Projesi/animal_sounds\\cats\\cat_121.wav\n",
      "../Donem Projesi/animal_sounds\\cats\\cat_122.wav\n",
      "../Donem Projesi/animal_sounds\\cats\\cat_123.wav\n",
      "../Donem Projesi/animal_sounds\\cats\\cat_124.wav\n",
      "../Donem Projesi/animal_sounds\\cats\\cat_125.wav\n",
      "../Donem Projesi/animal_sounds\\cats\\cat_126.wav\n",
      "../Donem Projesi/animal_sounds\\cats\\cat_127.wav\n",
      "../Donem Projesi/animal_sounds\\cats\\cat_128.wav\n",
      "../Donem Projesi/animal_sounds\\cats\\cat_129.wav\n",
      "../Donem Projesi/animal_sounds\\cats\\cat_13.wav\n",
      "../Donem Projesi/animal_sounds\\cats\\cat_130.wav\n",
      "../Donem Projesi/animal_sounds\\cats\\cat_131.wav\n",
      "../Donem Projesi/animal_sounds\\cats\\cat_132.wav\n",
      "../Donem Projesi/animal_sounds\\cats\\cat_133.wav\n",
      "../Donem Projesi/animal_sounds\\cats\\cat_134.wav\n",
      "../Donem Projesi/animal_sounds\\cats\\cat_135.wav\n",
      "../Donem Projesi/animal_sounds\\cats\\cat_136.wav\n",
      "../Donem Projesi/animal_sounds\\cats\\cat_137.wav\n",
      "../Donem Projesi/animal_sounds\\cats\\cat_138.wav\n",
      "../Donem Projesi/animal_sounds\\cats\\cat_139.wav\n",
      "../Donem Projesi/animal_sounds\\cats\\cat_14.wav\n",
      "../Donem Projesi/animal_sounds\\cats\\cat_140.wav\n",
      "../Donem Projesi/animal_sounds\\cats\\cat_141.wav\n",
      "../Donem Projesi/animal_sounds\\cats\\cat_142.wav\n",
      "../Donem Projesi/animal_sounds\\cats\\cat_143.wav\n",
      "../Donem Projesi/animal_sounds\\cats\\cat_144.wav\n",
      "../Donem Projesi/animal_sounds\\cats\\cat_146.wav\n",
      "../Donem Projesi/animal_sounds\\cats\\cat_147.wav\n",
      "../Donem Projesi/animal_sounds\\cats\\cat_148.wav\n",
      "../Donem Projesi/animal_sounds\\cats\\cat_149.wav\n",
      "../Donem Projesi/animal_sounds\\cats\\cat_15.wav\n",
      "../Donem Projesi/animal_sounds\\cats\\cat_150.wav\n",
      "../Donem Projesi/animal_sounds\\cats\\cat_151.wav\n",
      "../Donem Projesi/animal_sounds\\cats\\cat_152.wav\n",
      "../Donem Projesi/animal_sounds\\cats\\cat_153.wav\n",
      "../Donem Projesi/animal_sounds\\cats\\cat_154.wav\n",
      "../Donem Projesi/animal_sounds\\cats\\cat_155.wav\n",
      "../Donem Projesi/animal_sounds\\cats\\cat_156.wav\n",
      "../Donem Projesi/animal_sounds\\cats\\cat_157.wav\n",
      "../Donem Projesi/animal_sounds\\cats\\cat_158.wav\n",
      "../Donem Projesi/animal_sounds\\cats\\cat_159.wav\n",
      "../Donem Projesi/animal_sounds\\cats\\cat_16.wav\n",
      "../Donem Projesi/animal_sounds\\cats\\cat_160.wav\n",
      "../Donem Projesi/animal_sounds\\cats\\cat_161.wav\n",
      "../Donem Projesi/animal_sounds\\cats\\cat_162.wav\n",
      "../Donem Projesi/animal_sounds\\cats\\cat_163.wav\n",
      "../Donem Projesi/animal_sounds\\cats\\cat_164.wav\n",
      "../Donem Projesi/animal_sounds\\cats\\cat_165.wav\n",
      "../Donem Projesi/animal_sounds\\cats\\cat_166.wav\n",
      "../Donem Projesi/animal_sounds\\cats\\cat_167.wav\n",
      "../Donem Projesi/animal_sounds\\cats\\cat_17.wav\n",
      "../Donem Projesi/animal_sounds\\cats\\cat_18.wav\n",
      "../Donem Projesi/animal_sounds\\cats\\cat_19.wav\n",
      "../Donem Projesi/animal_sounds\\cats\\cat_2.wav\n",
      "../Donem Projesi/animal_sounds\\cats\\cat_20.wav\n",
      "../Donem Projesi/animal_sounds\\cats\\cat_21.wav\n",
      "../Donem Projesi/animal_sounds\\cats\\cat_22.wav\n",
      "../Donem Projesi/animal_sounds\\cats\\cat_23.wav\n",
      "../Donem Projesi/animal_sounds\\cats\\cat_24.wav\n",
      "../Donem Projesi/animal_sounds\\cats\\cat_25.wav\n",
      "../Donem Projesi/animal_sounds\\cats\\cat_26.wav\n",
      "../Donem Projesi/animal_sounds\\cats\\cat_27.wav\n",
      "../Donem Projesi/animal_sounds\\cats\\cat_28.wav\n",
      "../Donem Projesi/animal_sounds\\cats\\cat_29.wav\n",
      "../Donem Projesi/animal_sounds\\cats\\cat_3.wav\n",
      "../Donem Projesi/animal_sounds\\cats\\cat_30.wav\n",
      "../Donem Projesi/animal_sounds\\cats\\cat_31.wav\n",
      "../Donem Projesi/animal_sounds\\cats\\cat_32.wav\n",
      "../Donem Projesi/animal_sounds\\cats\\cat_33.wav\n",
      "../Donem Projesi/animal_sounds\\cats\\cat_34.wav\n",
      "../Donem Projesi/animal_sounds\\cats\\cat_35.wav\n",
      "../Donem Projesi/animal_sounds\\cats\\cat_36.wav\n",
      "../Donem Projesi/animal_sounds\\cats\\cat_37.wav\n",
      "../Donem Projesi/animal_sounds\\cats\\cat_38.wav\n",
      "../Donem Projesi/animal_sounds\\cats\\cat_39.wav\n",
      "../Donem Projesi/animal_sounds\\cats\\cat_4.wav\n",
      "../Donem Projesi/animal_sounds\\cats\\cat_40.wav\n",
      "../Donem Projesi/animal_sounds\\cats\\cat_41.wav\n",
      "../Donem Projesi/animal_sounds\\cats\\cat_42.wav\n",
      "../Donem Projesi/animal_sounds\\cats\\cat_43.wav\n",
      "../Donem Projesi/animal_sounds\\cats\\cat_44.wav\n",
      "../Donem Projesi/animal_sounds\\cats\\cat_45.wav\n",
      "../Donem Projesi/animal_sounds\\cats\\cat_46.wav\n",
      "../Donem Projesi/animal_sounds\\cats\\cat_47.wav\n",
      "../Donem Projesi/animal_sounds\\cats\\cat_48.wav\n",
      "../Donem Projesi/animal_sounds\\cats\\cat_49.wav\n",
      "../Donem Projesi/animal_sounds\\cats\\cat_5.wav\n",
      "../Donem Projesi/animal_sounds\\cats\\cat_50.wav\n",
      "../Donem Projesi/animal_sounds\\cats\\cat_51.wav\n",
      "../Donem Projesi/animal_sounds\\cats\\cat_52.wav\n",
      "../Donem Projesi/animal_sounds\\cats\\cat_53.wav\n",
      "../Donem Projesi/animal_sounds\\cats\\cat_54.wav\n",
      "../Donem Projesi/animal_sounds\\cats\\cat_55.wav\n",
      "../Donem Projesi/animal_sounds\\cats\\cat_56.wav\n",
      "../Donem Projesi/animal_sounds\\cats\\cat_57.wav\n",
      "../Donem Projesi/animal_sounds\\cats\\cat_58.wav\n",
      "../Donem Projesi/animal_sounds\\cats\\cat_59.wav\n",
      "../Donem Projesi/animal_sounds\\cats\\cat_6.wav\n",
      "../Donem Projesi/animal_sounds\\cats\\cat_60.wav\n",
      "../Donem Projesi/animal_sounds\\cats\\cat_61.wav\n",
      "../Donem Projesi/animal_sounds\\cats\\cat_62.wav\n",
      "../Donem Projesi/animal_sounds\\cats\\cat_63.wav\n",
      "../Donem Projesi/animal_sounds\\cats\\cat_64.wav\n",
      "../Donem Projesi/animal_sounds\\cats\\cat_65.wav\n",
      "../Donem Projesi/animal_sounds\\cats\\cat_66.wav\n",
      "../Donem Projesi/animal_sounds\\cats\\cat_67.wav\n",
      "../Donem Projesi/animal_sounds\\cats\\cat_68.wav\n",
      "../Donem Projesi/animal_sounds\\cats\\cat_69.wav\n",
      "../Donem Projesi/animal_sounds\\cats\\cat_7.wav\n",
      "../Donem Projesi/animal_sounds\\cats\\cat_70.wav\n",
      "../Donem Projesi/animal_sounds\\cats\\cat_71.wav\n",
      "../Donem Projesi/animal_sounds\\cats\\cat_72.wav\n",
      "../Donem Projesi/animal_sounds\\cats\\cat_73.wav\n",
      "../Donem Projesi/animal_sounds\\cats\\cat_74.wav\n",
      "../Donem Projesi/animal_sounds\\cats\\cat_75.wav\n",
      "../Donem Projesi/animal_sounds\\cats\\cat_76.wav\n",
      "../Donem Projesi/animal_sounds\\cats\\cat_77.wav\n",
      "../Donem Projesi/animal_sounds\\cats\\cat_78.wav\n",
      "../Donem Projesi/animal_sounds\\cats\\cat_79.wav\n",
      "../Donem Projesi/animal_sounds\\cats\\cat_8.wav\n",
      "../Donem Projesi/animal_sounds\\cats\\cat_80.wav\n",
      "../Donem Projesi/animal_sounds\\cats\\cat_81.wav\n",
      "../Donem Projesi/animal_sounds\\cats\\cat_82.wav\n",
      "../Donem Projesi/animal_sounds\\cats\\cat_83.wav\n",
      "../Donem Projesi/animal_sounds\\cats\\cat_84.wav\n",
      "../Donem Projesi/animal_sounds\\cats\\cat_85.wav\n",
      "../Donem Projesi/animal_sounds\\cats\\cat_86.wav\n",
      "../Donem Projesi/animal_sounds\\cats\\cat_87.wav\n",
      "../Donem Projesi/animal_sounds\\cats\\cat_88.wav\n",
      "../Donem Projesi/animal_sounds\\cats\\cat_89.wav\n",
      "../Donem Projesi/animal_sounds\\cats\\cat_9.wav\n",
      "../Donem Projesi/animal_sounds\\cats\\cat_90.wav\n",
      "../Donem Projesi/animal_sounds\\cats\\cat_91.wav\n",
      "../Donem Projesi/animal_sounds\\cats\\cat_92.wav\n",
      "../Donem Projesi/animal_sounds\\cats\\cat_93.wav\n",
      "../Donem Projesi/animal_sounds\\cats\\cat_94.wav\n",
      "../Donem Projesi/animal_sounds\\cats\\cat_95.wav\n",
      "../Donem Projesi/animal_sounds\\cats\\cat_96.wav\n",
      "../Donem Projesi/animal_sounds\\cats\\cat_97.wav\n",
      "../Donem Projesi/animal_sounds\\cats\\cat_98.wav\n",
      "../Donem Projesi/animal_sounds\\cats\\cat_99.wav\n",
      "../Donem Projesi/animal_sounds\\dogs\\dog_barking_0.wav\n",
      "../Donem Projesi/animal_sounds\\dogs\\dog_barking_1.wav\n",
      "../Donem Projesi/animal_sounds\\dogs\\dog_barking_10.wav\n",
      "../Donem Projesi/animal_sounds\\dogs\\dog_barking_100.wav\n",
      "../Donem Projesi/animal_sounds\\dogs\\dog_barking_101.wav\n",
      "../Donem Projesi/animal_sounds\\dogs\\dog_barking_102.wav\n",
      "../Donem Projesi/animal_sounds\\dogs\\dog_barking_103.wav\n",
      "../Donem Projesi/animal_sounds\\dogs\\dog_barking_104.wav\n",
      "../Donem Projesi/animal_sounds\\dogs\\dog_barking_105.wav\n",
      "../Donem Projesi/animal_sounds\\dogs\\dog_barking_106.wav\n",
      "../Donem Projesi/animal_sounds\\dogs\\dog_barking_107.wav\n",
      "../Donem Projesi/animal_sounds\\dogs\\dog_barking_108.wav\n",
      "../Donem Projesi/animal_sounds\\dogs\\dog_barking_109.wav\n",
      "../Donem Projesi/animal_sounds\\dogs\\dog_barking_11.wav\n",
      "../Donem Projesi/animal_sounds\\dogs\\dog_barking_110.wav\n",
      "../Donem Projesi/animal_sounds\\dogs\\dog_barking_111.wav\n",
      "../Donem Projesi/animal_sounds\\dogs\\dog_barking_112.wav\n",
      "../Donem Projesi/animal_sounds\\dogs\\dog_barking_12.wav\n",
      "../Donem Projesi/animal_sounds\\dogs\\dog_barking_13.wav\n",
      "../Donem Projesi/animal_sounds\\dogs\\dog_barking_14.wav\n",
      "../Donem Projesi/animal_sounds\\dogs\\dog_barking_15.wav\n",
      "../Donem Projesi/animal_sounds\\dogs\\dog_barking_16.wav\n",
      "../Donem Projesi/animal_sounds\\dogs\\dog_barking_17.wav\n",
      "../Donem Projesi/animal_sounds\\dogs\\dog_barking_18.wav\n",
      "../Donem Projesi/animal_sounds\\dogs\\dog_barking_19.wav\n",
      "../Donem Projesi/animal_sounds\\dogs\\dog_barking_2.wav\n",
      "../Donem Projesi/animal_sounds\\dogs\\dog_barking_20.wav\n",
      "../Donem Projesi/animal_sounds\\dogs\\dog_barking_21.wav\n",
      "../Donem Projesi/animal_sounds\\dogs\\dog_barking_22.wav\n",
      "../Donem Projesi/animal_sounds\\dogs\\dog_barking_23.wav\n",
      "../Donem Projesi/animal_sounds\\dogs\\dog_barking_24.wav\n",
      "../Donem Projesi/animal_sounds\\dogs\\dog_barking_25.wav\n",
      "../Donem Projesi/animal_sounds\\dogs\\dog_barking_26.wav\n",
      "../Donem Projesi/animal_sounds\\dogs\\dog_barking_27.wav\n",
      "../Donem Projesi/animal_sounds\\dogs\\dog_barking_28.wav\n",
      "../Donem Projesi/animal_sounds\\dogs\\dog_barking_29.wav\n",
      "../Donem Projesi/animal_sounds\\dogs\\dog_barking_3.wav\n",
      "../Donem Projesi/animal_sounds\\dogs\\dog_barking_30.wav\n",
      "../Donem Projesi/animal_sounds\\dogs\\dog_barking_31.wav\n",
      "../Donem Projesi/animal_sounds\\dogs\\dog_barking_32.wav\n",
      "../Donem Projesi/animal_sounds\\dogs\\dog_barking_33.wav\n",
      "../Donem Projesi/animal_sounds\\dogs\\dog_barking_34.wav\n",
      "../Donem Projesi/animal_sounds\\dogs\\dog_barking_35.wav\n",
      "../Donem Projesi/animal_sounds\\dogs\\dog_barking_36.wav\n",
      "../Donem Projesi/animal_sounds\\dogs\\dog_barking_37.wav\n",
      "../Donem Projesi/animal_sounds\\dogs\\dog_barking_38.wav\n",
      "../Donem Projesi/animal_sounds\\dogs\\dog_barking_39.wav\n",
      "../Donem Projesi/animal_sounds\\dogs\\dog_barking_4.wav\n",
      "../Donem Projesi/animal_sounds\\dogs\\dog_barking_40.wav\n",
      "../Donem Projesi/animal_sounds\\dogs\\dog_barking_41.wav\n",
      "../Donem Projesi/animal_sounds\\dogs\\dog_barking_42.wav\n",
      "../Donem Projesi/animal_sounds\\dogs\\dog_barking_43.wav\n",
      "../Donem Projesi/animal_sounds\\dogs\\dog_barking_44.wav\n",
      "../Donem Projesi/animal_sounds\\dogs\\dog_barking_45.wav\n",
      "../Donem Projesi/animal_sounds\\dogs\\dog_barking_46.wav\n",
      "../Donem Projesi/animal_sounds\\dogs\\dog_barking_47.wav\n",
      "../Donem Projesi/animal_sounds\\dogs\\dog_barking_48.wav\n",
      "../Donem Projesi/animal_sounds\\dogs\\dog_barking_49.wav\n",
      "../Donem Projesi/animal_sounds\\dogs\\dog_barking_5.wav\n",
      "../Donem Projesi/animal_sounds\\dogs\\dog_barking_50.wav\n",
      "../Donem Projesi/animal_sounds\\dogs\\dog_barking_51.wav\n",
      "../Donem Projesi/animal_sounds\\dogs\\dog_barking_52.wav\n",
      "../Donem Projesi/animal_sounds\\dogs\\dog_barking_53.wav\n",
      "../Donem Projesi/animal_sounds\\dogs\\dog_barking_54.wav\n",
      "../Donem Projesi/animal_sounds\\dogs\\dog_barking_55.wav\n",
      "../Donem Projesi/animal_sounds\\dogs\\dog_barking_56.wav\n",
      "../Donem Projesi/animal_sounds\\dogs\\dog_barking_57.wav\n",
      "../Donem Projesi/animal_sounds\\dogs\\dog_barking_58.wav\n",
      "../Donem Projesi/animal_sounds\\dogs\\dog_barking_59.wav\n",
      "../Donem Projesi/animal_sounds\\dogs\\dog_barking_6.wav\n",
      "../Donem Projesi/animal_sounds\\dogs\\dog_barking_60.wav\n",
      "../Donem Projesi/animal_sounds\\dogs\\dog_barking_61.wav\n",
      "../Donem Projesi/animal_sounds\\dogs\\dog_barking_62.wav\n",
      "../Donem Projesi/animal_sounds\\dogs\\dog_barking_63.wav\n",
      "../Donem Projesi/animal_sounds\\dogs\\dog_barking_64.wav\n",
      "../Donem Projesi/animal_sounds\\dogs\\dog_barking_65.wav\n",
      "../Donem Projesi/animal_sounds\\dogs\\dog_barking_66.wav\n",
      "../Donem Projesi/animal_sounds\\dogs\\dog_barking_67.wav\n",
      "../Donem Projesi/animal_sounds\\dogs\\dog_barking_68.wav\n",
      "../Donem Projesi/animal_sounds\\dogs\\dog_barking_69.wav\n",
      "../Donem Projesi/animal_sounds\\dogs\\dog_barking_7.wav\n",
      "../Donem Projesi/animal_sounds\\dogs\\dog_barking_70.wav\n",
      "../Donem Projesi/animal_sounds\\dogs\\dog_barking_71.wav\n",
      "../Donem Projesi/animal_sounds\\dogs\\dog_barking_72.wav\n",
      "../Donem Projesi/animal_sounds\\dogs\\dog_barking_73.wav\n",
      "../Donem Projesi/animal_sounds\\dogs\\dog_barking_74.wav\n",
      "../Donem Projesi/animal_sounds\\dogs\\dog_barking_75.wav\n",
      "../Donem Projesi/animal_sounds\\dogs\\dog_barking_76.wav\n",
      "../Donem Projesi/animal_sounds\\dogs\\dog_barking_77.wav\n",
      "../Donem Projesi/animal_sounds\\dogs\\dog_barking_78.wav\n",
      "../Donem Projesi/animal_sounds\\dogs\\dog_barking_79.wav\n",
      "../Donem Projesi/animal_sounds\\dogs\\dog_barking_8.wav\n",
      "../Donem Projesi/animal_sounds\\dogs\\dog_barking_80.wav\n",
      "../Donem Projesi/animal_sounds\\dogs\\dog_barking_81.wav\n",
      "../Donem Projesi/animal_sounds\\dogs\\dog_barking_82.wav\n",
      "../Donem Projesi/animal_sounds\\dogs\\dog_barking_83.wav\n",
      "../Donem Projesi/animal_sounds\\dogs\\dog_barking_84.wav\n",
      "../Donem Projesi/animal_sounds\\dogs\\dog_barking_85.wav\n",
      "../Donem Projesi/animal_sounds\\dogs\\dog_barking_86.wav\n",
      "../Donem Projesi/animal_sounds\\dogs\\dog_barking_87.wav\n",
      "../Donem Projesi/animal_sounds\\dogs\\dog_barking_88.wav\n",
      "../Donem Projesi/animal_sounds\\dogs\\dog_barking_89.wav\n",
      "../Donem Projesi/animal_sounds\\dogs\\dog_barking_9.wav\n",
      "../Donem Projesi/animal_sounds\\dogs\\dog_barking_90.wav\n",
      "../Donem Projesi/animal_sounds\\dogs\\dog_barking_91.wav\n",
      "../Donem Projesi/animal_sounds\\dogs\\dog_barking_92.wav\n",
      "../Donem Projesi/animal_sounds\\dogs\\dog_barking_93.wav\n",
      "../Donem Projesi/animal_sounds\\dogs\\dog_barking_94.wav\n",
      "../Donem Projesi/animal_sounds\\dogs\\dog_barking_95.wav\n",
      "../Donem Projesi/animal_sounds\\dogs\\dog_barking_96.wav\n",
      "../Donem Projesi/animal_sounds\\dogs\\dog_barking_97.wav\n",
      "../Donem Projesi/animal_sounds\\dogs\\dog_barking_98.wav\n",
      "../Donem Projesi/animal_sounds\\dogs\\dog_barking_99.wav\n",
      "../Donem Projesi/animal_sounds\\elephants\\elephant (1).wav\n",
      "../Donem Projesi/animal_sounds\\elephants\\elephant (10).wav\n",
      "../Donem Projesi/animal_sounds\\elephants\\elephant (100).wav\n",
      "../Donem Projesi/animal_sounds\\elephants\\elephant (101).wav\n",
      "../Donem Projesi/animal_sounds\\elephants\\elephant (102).wav\n",
      "../Donem Projesi/animal_sounds\\elephants\\elephant (103).wav\n",
      "../Donem Projesi/animal_sounds\\elephants\\elephant (104).wav\n",
      "../Donem Projesi/animal_sounds\\elephants\\elephant (105).wav\n",
      "../Donem Projesi/animal_sounds\\elephants\\elephant (106).wav\n",
      "../Donem Projesi/animal_sounds\\elephants\\elephant (107).wav\n",
      "../Donem Projesi/animal_sounds\\elephants\\elephant (108).wav\n",
      "../Donem Projesi/animal_sounds\\elephants\\elephant (109).wav\n",
      "../Donem Projesi/animal_sounds\\elephants\\elephant (11).wav\n",
      "../Donem Projesi/animal_sounds\\elephants\\elephant (110).wav\n",
      "../Donem Projesi/animal_sounds\\elephants\\elephant (111).wav\n",
      "../Donem Projesi/animal_sounds\\elephants\\elephant (112).wav\n",
      "../Donem Projesi/animal_sounds\\elephants\\elephant (113).wav\n",
      "../Donem Projesi/animal_sounds\\elephants\\elephant (114).wav\n",
      "../Donem Projesi/animal_sounds\\elephants\\elephant (115).wav\n",
      "../Donem Projesi/animal_sounds\\elephants\\elephant (116).wav\n",
      "../Donem Projesi/animal_sounds\\elephants\\elephant (117).wav\n",
      "../Donem Projesi/animal_sounds\\elephants\\elephant (118).wav\n",
      "../Donem Projesi/animal_sounds\\elephants\\elephant (119).wav\n",
      "../Donem Projesi/animal_sounds\\elephants\\elephant (12).wav\n",
      "../Donem Projesi/animal_sounds\\elephants\\elephant (120).wav\n",
      "../Donem Projesi/animal_sounds\\elephants\\elephant (121).wav\n",
      "../Donem Projesi/animal_sounds\\elephants\\elephant (122).wav\n",
      "../Donem Projesi/animal_sounds\\elephants\\elephant (123).wav\n",
      "../Donem Projesi/animal_sounds\\elephants\\elephant (124).wav\n",
      "../Donem Projesi/animal_sounds\\elephants\\elephant (125).wav\n",
      "../Donem Projesi/animal_sounds\\elephants\\elephant (126).wav\n",
      "../Donem Projesi/animal_sounds\\elephants\\elephant (127).wav\n",
      "../Donem Projesi/animal_sounds\\elephants\\elephant (128).wav\n",
      "../Donem Projesi/animal_sounds\\elephants\\elephant (129).wav\n",
      "../Donem Projesi/animal_sounds\\elephants\\elephant (13).wav\n",
      "../Donem Projesi/animal_sounds\\elephants\\elephant (130).wav\n",
      "../Donem Projesi/animal_sounds\\elephants\\elephant (131).wav\n",
      "../Donem Projesi/animal_sounds\\elephants\\elephant (132).wav\n",
      "../Donem Projesi/animal_sounds\\elephants\\elephant (133).wav\n",
      "../Donem Projesi/animal_sounds\\elephants\\elephant (134).wav\n",
      "../Donem Projesi/animal_sounds\\elephants\\elephant (135).wav\n",
      "../Donem Projesi/animal_sounds\\elephants\\elephant (136).wav\n",
      "../Donem Projesi/animal_sounds\\elephants\\elephant (137).wav\n",
      "../Donem Projesi/animal_sounds\\elephants\\elephant (138).wav\n",
      "../Donem Projesi/animal_sounds\\elephants\\elephant (139).wav\n",
      "../Donem Projesi/animal_sounds\\elephants\\elephant (14).wav\n",
      "../Donem Projesi/animal_sounds\\elephants\\elephant (140).wav\n",
      "../Donem Projesi/animal_sounds\\elephants\\elephant (141).wav\n",
      "../Donem Projesi/animal_sounds\\elephants\\elephant (142).wav\n",
      "../Donem Projesi/animal_sounds\\elephants\\elephant (143).wav\n",
      "../Donem Projesi/animal_sounds\\elephants\\elephant (144).wav\n",
      "../Donem Projesi/animal_sounds\\elephants\\elephant (145).wav\n",
      "../Donem Projesi/animal_sounds\\elephants\\elephant (146).wav\n",
      "../Donem Projesi/animal_sounds\\elephants\\elephant (147).wav\n",
      "../Donem Projesi/animal_sounds\\elephants\\elephant (148).wav\n",
      "../Donem Projesi/animal_sounds\\elephants\\elephant (149).wav\n",
      "../Donem Projesi/animal_sounds\\elephants\\elephant (15).wav\n",
      "../Donem Projesi/animal_sounds\\elephants\\elephant (150).wav\n",
      "../Donem Projesi/animal_sounds\\elephants\\elephant (151).wav\n",
      "../Donem Projesi/animal_sounds\\elephants\\elephant (152).wav\n",
      "../Donem Projesi/animal_sounds\\elephants\\elephant (153).wav\n",
      "../Donem Projesi/animal_sounds\\elephants\\elephant (154).wav\n",
      "../Donem Projesi/animal_sounds\\elephants\\elephant (155).wav\n",
      "../Donem Projesi/animal_sounds\\elephants\\elephant (156).wav\n",
      "../Donem Projesi/animal_sounds\\elephants\\elephant (157).wav\n",
      "../Donem Projesi/animal_sounds\\elephants\\elephant (158).wav\n",
      "../Donem Projesi/animal_sounds\\elephants\\elephant (159).wav\n",
      "../Donem Projesi/animal_sounds\\elephants\\elephant (16).wav\n",
      "../Donem Projesi/animal_sounds\\elephants\\elephant (160).wav\n",
      "../Donem Projesi/animal_sounds\\elephants\\elephant (161).wav\n",
      "../Donem Projesi/animal_sounds\\elephants\\elephant (162).wav\n",
      "../Donem Projesi/animal_sounds\\elephants\\elephant (163).wav\n",
      "../Donem Projesi/animal_sounds\\elephants\\elephant (164).wav\n",
      "../Donem Projesi/animal_sounds\\elephants\\elephant (165).wav\n",
      "../Donem Projesi/animal_sounds\\elephants\\elephant (166).wav\n",
      "../Donem Projesi/animal_sounds\\elephants\\elephant (167).wav\n",
      "../Donem Projesi/animal_sounds\\elephants\\elephant (168).wav\n",
      "../Donem Projesi/animal_sounds\\elephants\\elephant (169).wav\n",
      "../Donem Projesi/animal_sounds\\elephants\\elephant (17).wav\n",
      "../Donem Projesi/animal_sounds\\elephants\\elephant (170).wav\n",
      "../Donem Projesi/animal_sounds\\elephants\\elephant (171).wav\n",
      "../Donem Projesi/animal_sounds\\elephants\\elephant (172).wav\n",
      "../Donem Projesi/animal_sounds\\elephants\\elephant (173).wav\n",
      "../Donem Projesi/animal_sounds\\elephants\\elephant (174).wav\n",
      "../Donem Projesi/animal_sounds\\elephants\\elephant (175).wav\n",
      "../Donem Projesi/animal_sounds\\elephants\\elephant (176).wav\n",
      "../Donem Projesi/animal_sounds\\elephants\\elephant (177).wav\n",
      "../Donem Projesi/animal_sounds\\elephants\\elephant (178).wav\n",
      "../Donem Projesi/animal_sounds\\elephants\\elephant (179).wav\n",
      "../Donem Projesi/animal_sounds\\elephants\\elephant (18).wav\n",
      "../Donem Projesi/animal_sounds\\elephants\\elephant (180).wav\n",
      "../Donem Projesi/animal_sounds\\elephants\\elephant (181).wav\n",
      "../Donem Projesi/animal_sounds\\elephants\\elephant (182).wav\n",
      "../Donem Projesi/animal_sounds\\elephants\\elephant (183).wav\n",
      "../Donem Projesi/animal_sounds\\elephants\\elephant (184).wav\n",
      "../Donem Projesi/animal_sounds\\elephants\\elephant (185).wav\n",
      "../Donem Projesi/animal_sounds\\elephants\\elephant (186).wav\n",
      "../Donem Projesi/animal_sounds\\elephants\\elephant (187).wav\n",
      "../Donem Projesi/animal_sounds\\elephants\\elephant (188).wav\n",
      "../Donem Projesi/animal_sounds\\elephants\\elephant (189).wav\n",
      "../Donem Projesi/animal_sounds\\elephants\\elephant (19).wav\n",
      "../Donem Projesi/animal_sounds\\elephants\\elephant (190).wav\n",
      "../Donem Projesi/animal_sounds\\elephants\\elephant (191).wav\n",
      "../Donem Projesi/animal_sounds\\elephants\\elephant (192).wav\n",
      "../Donem Projesi/animal_sounds\\elephants\\elephant (193).wav\n",
      "../Donem Projesi/animal_sounds\\elephants\\elephant (194).wav\n",
      "../Donem Projesi/animal_sounds\\elephants\\elephant (195).wav\n",
      "../Donem Projesi/animal_sounds\\elephants\\elephant (196).wav\n",
      "../Donem Projesi/animal_sounds\\elephants\\elephant (197).wav\n",
      "../Donem Projesi/animal_sounds\\elephants\\elephant (198).wav\n",
      "../Donem Projesi/animal_sounds\\elephants\\elephant (199).wav\n",
      "../Donem Projesi/animal_sounds\\elephants\\elephant (2).wav\n",
      "../Donem Projesi/animal_sounds\\elephants\\elephant (20).wav\n",
      "../Donem Projesi/animal_sounds\\elephants\\elephant (21).wav\n",
      "../Donem Projesi/animal_sounds\\elephants\\elephant (22).wav\n",
      "../Donem Projesi/animal_sounds\\elephants\\elephant (23).wav\n",
      "../Donem Projesi/animal_sounds\\elephants\\elephant (24).wav\n",
      "../Donem Projesi/animal_sounds\\elephants\\elephant (25).wav\n",
      "../Donem Projesi/animal_sounds\\elephants\\elephant (26).wav\n",
      "../Donem Projesi/animal_sounds\\elephants\\elephant (27).wav\n",
      "../Donem Projesi/animal_sounds\\elephants\\elephant (28).wav\n",
      "../Donem Projesi/animal_sounds\\elephants\\elephant (29).wav\n",
      "../Donem Projesi/animal_sounds\\elephants\\elephant (3).wav\n",
      "../Donem Projesi/animal_sounds\\elephants\\elephant (30).wav\n",
      "../Donem Projesi/animal_sounds\\elephants\\elephant (31).wav\n",
      "../Donem Projesi/animal_sounds\\elephants\\elephant (32).wav\n",
      "../Donem Projesi/animal_sounds\\elephants\\elephant (33).wav\n",
      "../Donem Projesi/animal_sounds\\elephants\\elephant (34).wav\n",
      "../Donem Projesi/animal_sounds\\elephants\\elephant (35).wav\n",
      "../Donem Projesi/animal_sounds\\elephants\\elephant (36).wav\n",
      "../Donem Projesi/animal_sounds\\elephants\\elephant (37).wav\n",
      "../Donem Projesi/animal_sounds\\elephants\\elephant (38).wav\n",
      "../Donem Projesi/animal_sounds\\elephants\\elephant (39).wav\n",
      "../Donem Projesi/animal_sounds\\elephants\\elephant (4).wav\n",
      "../Donem Projesi/animal_sounds\\elephants\\elephant (40).wav\n",
      "../Donem Projesi/animal_sounds\\elephants\\elephant (41).wav\n",
      "../Donem Projesi/animal_sounds\\elephants\\elephant (42).wav\n",
      "../Donem Projesi/animal_sounds\\elephants\\elephant (43).wav\n",
      "../Donem Projesi/animal_sounds\\elephants\\elephant (44).wav\n",
      "../Donem Projesi/animal_sounds\\elephants\\elephant (45).wav\n",
      "../Donem Projesi/animal_sounds\\elephants\\elephant (46).wav\n",
      "../Donem Projesi/animal_sounds\\elephants\\elephant (47).wav\n",
      "../Donem Projesi/animal_sounds\\elephants\\elephant (48).wav\n",
      "../Donem Projesi/animal_sounds\\elephants\\elephant (49).wav\n",
      "../Donem Projesi/animal_sounds\\elephants\\elephant (5).wav\n",
      "../Donem Projesi/animal_sounds\\elephants\\elephant (50).wav\n",
      "../Donem Projesi/animal_sounds\\elephants\\elephant (51).wav\n",
      "../Donem Projesi/animal_sounds\\elephants\\elephant (52).wav\n",
      "../Donem Projesi/animal_sounds\\elephants\\elephant (53).wav\n",
      "../Donem Projesi/animal_sounds\\elephants\\elephant (54).wav\n",
      "../Donem Projesi/animal_sounds\\elephants\\elephant (55).wav\n",
      "../Donem Projesi/animal_sounds\\elephants\\elephant (56).wav\n",
      "../Donem Projesi/animal_sounds\\elephants\\elephant (57).wav\n",
      "../Donem Projesi/animal_sounds\\elephants\\elephant (58).wav\n",
      "../Donem Projesi/animal_sounds\\elephants\\elephant (59).wav\n",
      "../Donem Projesi/animal_sounds\\elephants\\elephant (6).wav\n",
      "../Donem Projesi/animal_sounds\\elephants\\elephant (60).wav\n",
      "../Donem Projesi/animal_sounds\\elephants\\elephant (61).wav\n",
      "../Donem Projesi/animal_sounds\\elephants\\elephant (62).wav\n",
      "../Donem Projesi/animal_sounds\\elephants\\elephant (63).wav\n",
      "../Donem Projesi/animal_sounds\\elephants\\elephant (64).wav\n",
      "../Donem Projesi/animal_sounds\\elephants\\elephant (65).wav\n",
      "../Donem Projesi/animal_sounds\\elephants\\elephant (66).wav\n",
      "../Donem Projesi/animal_sounds\\elephants\\elephant (67).wav\n",
      "../Donem Projesi/animal_sounds\\elephants\\elephant (68).wav\n",
      "../Donem Projesi/animal_sounds\\elephants\\elephant (69).wav\n",
      "../Donem Projesi/animal_sounds\\elephants\\elephant (7).wav\n",
      "../Donem Projesi/animal_sounds\\elephants\\elephant (70).wav\n",
      "../Donem Projesi/animal_sounds\\elephants\\elephant (71).wav\n",
      "../Donem Projesi/animal_sounds\\elephants\\elephant (72).wav\n",
      "../Donem Projesi/animal_sounds\\elephants\\elephant (73).wav\n",
      "../Donem Projesi/animal_sounds\\elephants\\elephant (74).wav\n",
      "../Donem Projesi/animal_sounds\\elephants\\elephant (75).wav\n",
      "../Donem Projesi/animal_sounds\\elephants\\elephant (76).wav\n",
      "../Donem Projesi/animal_sounds\\elephants\\elephant (77).wav\n",
      "../Donem Projesi/animal_sounds\\elephants\\elephant (78).wav\n",
      "../Donem Projesi/animal_sounds\\elephants\\elephant (79).wav\n",
      "../Donem Projesi/animal_sounds\\elephants\\elephant (8).wav\n",
      "../Donem Projesi/animal_sounds\\elephants\\elephant (80).wav\n",
      "../Donem Projesi/animal_sounds\\elephants\\elephant (81).wav\n",
      "../Donem Projesi/animal_sounds\\elephants\\elephant (82).wav\n",
      "../Donem Projesi/animal_sounds\\elephants\\elephant (83).wav\n",
      "../Donem Projesi/animal_sounds\\elephants\\elephant (84).wav\n",
      "../Donem Projesi/animal_sounds\\elephants\\elephant (85).wav\n",
      "../Donem Projesi/animal_sounds\\elephants\\elephant (86).wav\n",
      "../Donem Projesi/animal_sounds\\elephants\\elephant (87).wav\n",
      "../Donem Projesi/animal_sounds\\elephants\\elephant (88).wav\n",
      "../Donem Projesi/animal_sounds\\elephants\\elephant (89).wav\n",
      "../Donem Projesi/animal_sounds\\elephants\\elephant (9).wav\n",
      "../Donem Projesi/animal_sounds\\elephants\\elephant (90).wav\n",
      "../Donem Projesi/animal_sounds\\elephants\\elephant (91).wav\n",
      "../Donem Projesi/animal_sounds\\elephants\\elephant (92).wav\n",
      "../Donem Projesi/animal_sounds\\elephants\\elephant (93).wav\n",
      "../Donem Projesi/animal_sounds\\elephants\\elephant (94).wav\n",
      "../Donem Projesi/animal_sounds\\elephants\\elephant (95).wav\n",
      "../Donem Projesi/animal_sounds\\elephants\\elephant (96).wav\n",
      "../Donem Projesi/animal_sounds\\elephants\\elephant (97).wav\n",
      "../Donem Projesi/animal_sounds\\elephants\\elephant (98).wav\n",
      "../Donem Projesi/animal_sounds\\elephants\\elephant (99).wav\n",
      "../Donem Projesi/animal_sounds\\horses\\horse (1).wav\n",
      "../Donem Projesi/animal_sounds\\horses\\horse (10).wav\n",
      "../Donem Projesi/animal_sounds\\horses\\horse (100).wav\n",
      "../Donem Projesi/animal_sounds\\horses\\horse (101).wav\n",
      "../Donem Projesi/animal_sounds\\horses\\horse (102).wav\n",
      "../Donem Projesi/animal_sounds\\horses\\horse (103).wav\n",
      "../Donem Projesi/animal_sounds\\horses\\horse (104).wav\n",
      "../Donem Projesi/animal_sounds\\horses\\horse (105).wav\n",
      "../Donem Projesi/animal_sounds\\horses\\horse (106).wav\n",
      "../Donem Projesi/animal_sounds\\horses\\horse (107).wav\n",
      "../Donem Projesi/animal_sounds\\horses\\horse (108).wav\n",
      "../Donem Projesi/animal_sounds\\horses\\horse (109).wav\n",
      "../Donem Projesi/animal_sounds\\horses\\horse (11).wav\n",
      "../Donem Projesi/animal_sounds\\horses\\horse (110).wav\n",
      "../Donem Projesi/animal_sounds\\horses\\horse (111).wav\n",
      "../Donem Projesi/animal_sounds\\horses\\horse (112).wav\n",
      "../Donem Projesi/animal_sounds\\horses\\horse (113).wav\n",
      "../Donem Projesi/animal_sounds\\horses\\horse (114).wav\n",
      "../Donem Projesi/animal_sounds\\horses\\horse (115).wav\n",
      "../Donem Projesi/animal_sounds\\horses\\horse (116).wav\n",
      "../Donem Projesi/animal_sounds\\horses\\horse (117).wav\n",
      "../Donem Projesi/animal_sounds\\horses\\horse (118).wav\n",
      "../Donem Projesi/animal_sounds\\horses\\horse (119).wav\n",
      "../Donem Projesi/animal_sounds\\horses\\horse (12).wav\n",
      "../Donem Projesi/animal_sounds\\horses\\horse (120).wav\n",
      "../Donem Projesi/animal_sounds\\horses\\horse (121).wav\n",
      "../Donem Projesi/animal_sounds\\horses\\horse (122).wav\n",
      "../Donem Projesi/animal_sounds\\horses\\horse (123).wav\n",
      "../Donem Projesi/animal_sounds\\horses\\horse (124).wav\n",
      "../Donem Projesi/animal_sounds\\horses\\horse (125).wav\n",
      "../Donem Projesi/animal_sounds\\horses\\horse (126).wav\n",
      "../Donem Projesi/animal_sounds\\horses\\horse (127).wav\n",
      "../Donem Projesi/animal_sounds\\horses\\horse (128).wav\n",
      "../Donem Projesi/animal_sounds\\horses\\horse (129).wav\n",
      "../Donem Projesi/animal_sounds\\horses\\horse (13).wav\n",
      "../Donem Projesi/animal_sounds\\horses\\horse (130).wav\n",
      "../Donem Projesi/animal_sounds\\horses\\horse (131).wav\n",
      "../Donem Projesi/animal_sounds\\horses\\horse (132).wav\n",
      "../Donem Projesi/animal_sounds\\horses\\horse (133).wav\n",
      "../Donem Projesi/animal_sounds\\horses\\horse (134).wav\n",
      "../Donem Projesi/animal_sounds\\horses\\horse (135).wav\n",
      "../Donem Projesi/animal_sounds\\horses\\horse (136).wav\n",
      "../Donem Projesi/animal_sounds\\horses\\horse (14).wav\n",
      "../Donem Projesi/animal_sounds\\horses\\horse (15).wav\n",
      "../Donem Projesi/animal_sounds\\horses\\horse (16).wav\n",
      "../Donem Projesi/animal_sounds\\horses\\horse (17).wav\n",
      "../Donem Projesi/animal_sounds\\horses\\horse (18).wav\n",
      "../Donem Projesi/animal_sounds\\horses\\horse (19).wav\n",
      "../Donem Projesi/animal_sounds\\horses\\horse (2).wav\n",
      "../Donem Projesi/animal_sounds\\horses\\horse (20).wav\n",
      "../Donem Projesi/animal_sounds\\horses\\horse (21).wav\n",
      "../Donem Projesi/animal_sounds\\horses\\horse (22).wav\n",
      "../Donem Projesi/animal_sounds\\horses\\horse (23).wav\n",
      "../Donem Projesi/animal_sounds\\horses\\horse (24).wav\n",
      "../Donem Projesi/animal_sounds\\horses\\horse (25).wav\n",
      "../Donem Projesi/animal_sounds\\horses\\horse (26).wav\n",
      "../Donem Projesi/animal_sounds\\horses\\horse (27).wav\n",
      "../Donem Projesi/animal_sounds\\horses\\horse (28).wav\n",
      "../Donem Projesi/animal_sounds\\horses\\horse (29).wav\n",
      "../Donem Projesi/animal_sounds\\horses\\horse (3).wav\n",
      "../Donem Projesi/animal_sounds\\horses\\horse (30).wav\n",
      "../Donem Projesi/animal_sounds\\horses\\horse (31).wav\n",
      "../Donem Projesi/animal_sounds\\horses\\horse (32).wav\n",
      "../Donem Projesi/animal_sounds\\horses\\horse (33).wav\n",
      "../Donem Projesi/animal_sounds\\horses\\horse (34).wav\n",
      "../Donem Projesi/animal_sounds\\horses\\horse (35).wav\n",
      "../Donem Projesi/animal_sounds\\horses\\horse (36).wav\n",
      "../Donem Projesi/animal_sounds\\horses\\horse (37).wav\n",
      "../Donem Projesi/animal_sounds\\horses\\horse (38).wav\n",
      "../Donem Projesi/animal_sounds\\horses\\horse (39).wav\n",
      "../Donem Projesi/animal_sounds\\horses\\horse (4).wav\n",
      "../Donem Projesi/animal_sounds\\horses\\horse (40).wav\n",
      "../Donem Projesi/animal_sounds\\horses\\horse (41).wav\n",
      "../Donem Projesi/animal_sounds\\horses\\horse (42).wav\n",
      "../Donem Projesi/animal_sounds\\horses\\horse (43).wav\n",
      "../Donem Projesi/animal_sounds\\horses\\horse (44).wav\n",
      "../Donem Projesi/animal_sounds\\horses\\horse (45).wav\n",
      "../Donem Projesi/animal_sounds\\horses\\horse (46).wav\n",
      "../Donem Projesi/animal_sounds\\horses\\horse (47).wav\n",
      "../Donem Projesi/animal_sounds\\horses\\horse (48).wav\n",
      "../Donem Projesi/animal_sounds\\horses\\horse (49).wav\n",
      "../Donem Projesi/animal_sounds\\horses\\horse (5).wav\n",
      "../Donem Projesi/animal_sounds\\horses\\horse (50).wav\n",
      "../Donem Projesi/animal_sounds\\horses\\horse (51).wav\n",
      "../Donem Projesi/animal_sounds\\horses\\horse (52).wav\n",
      "../Donem Projesi/animal_sounds\\horses\\horse (53).wav\n",
      "../Donem Projesi/animal_sounds\\horses\\horse (54).wav\n",
      "../Donem Projesi/animal_sounds\\horses\\horse (55).wav\n",
      "../Donem Projesi/animal_sounds\\horses\\horse (56).wav\n",
      "../Donem Projesi/animal_sounds\\horses\\horse (57).wav\n",
      "../Donem Projesi/animal_sounds\\horses\\horse (58).wav\n",
      "../Donem Projesi/animal_sounds\\horses\\horse (59).wav\n",
      "../Donem Projesi/animal_sounds\\horses\\horse (6).wav\n",
      "../Donem Projesi/animal_sounds\\horses\\horse (60).wav\n",
      "../Donem Projesi/animal_sounds\\horses\\horse (61).wav\n",
      "../Donem Projesi/animal_sounds\\horses\\horse (62).wav\n",
      "../Donem Projesi/animal_sounds\\horses\\horse (63).wav\n",
      "../Donem Projesi/animal_sounds\\horses\\horse (64).wav\n",
      "../Donem Projesi/animal_sounds\\horses\\horse (65).wav\n",
      "../Donem Projesi/animal_sounds\\horses\\horse (66).wav\n",
      "../Donem Projesi/animal_sounds\\horses\\horse (67).wav\n",
      "../Donem Projesi/animal_sounds\\horses\\horse (68).wav\n",
      "../Donem Projesi/animal_sounds\\horses\\horse (69).wav\n",
      "../Donem Projesi/animal_sounds\\horses\\horse (7).wav\n",
      "../Donem Projesi/animal_sounds\\horses\\horse (70).wav\n",
      "../Donem Projesi/animal_sounds\\horses\\horse (71).wav\n",
      "../Donem Projesi/animal_sounds\\horses\\horse (72).wav\n",
      "../Donem Projesi/animal_sounds\\horses\\horse (73).wav\n",
      "../Donem Projesi/animal_sounds\\horses\\horse (74).wav\n",
      "../Donem Projesi/animal_sounds\\horses\\horse (75).wav\n",
      "../Donem Projesi/animal_sounds\\horses\\horse (76).wav\n",
      "../Donem Projesi/animal_sounds\\horses\\horse (77).wav\n",
      "../Donem Projesi/animal_sounds\\horses\\horse (78).wav\n",
      "../Donem Projesi/animal_sounds\\horses\\horse (79).wav\n",
      "../Donem Projesi/animal_sounds\\horses\\horse (8).wav\n",
      "../Donem Projesi/animal_sounds\\horses\\horse (80).wav\n",
      "../Donem Projesi/animal_sounds\\horses\\horse (81).wav\n",
      "../Donem Projesi/animal_sounds\\horses\\horse (82).wav\n",
      "../Donem Projesi/animal_sounds\\horses\\horse (83).wav\n",
      "../Donem Projesi/animal_sounds\\horses\\horse (84).wav\n",
      "../Donem Projesi/animal_sounds\\horses\\horse (85).wav\n",
      "../Donem Projesi/animal_sounds\\horses\\horse (86).wav\n",
      "../Donem Projesi/animal_sounds\\horses\\horse (87).wav\n",
      "../Donem Projesi/animal_sounds\\horses\\horse (88).wav\n",
      "../Donem Projesi/animal_sounds\\horses\\horse (89).wav\n",
      "../Donem Projesi/animal_sounds\\horses\\horse (9).wav\n",
      "../Donem Projesi/animal_sounds\\horses\\horse (90).wav\n",
      "../Donem Projesi/animal_sounds\\horses\\horse (91).wav\n",
      "../Donem Projesi/animal_sounds\\horses\\horse (92).wav\n",
      "../Donem Projesi/animal_sounds\\horses\\horse (93).wav\n",
      "../Donem Projesi/animal_sounds\\horses\\horse (94).wav\n",
      "../Donem Projesi/animal_sounds\\horses\\horse (95).wav\n",
      "../Donem Projesi/animal_sounds\\horses\\horse (96).wav\n",
      "../Donem Projesi/animal_sounds\\horses\\horse (97).wav\n",
      "../Donem Projesi/animal_sounds\\horses\\horse (98).wav\n",
      "../Donem Projesi/animal_sounds\\horses\\horse (99).wav\n"
     ]
    }
   ],
   "source": [
    "import numpy as np # linear algebra\n",
    "import pandas as pd # data processing, CSV file I/O (e.g. pd.read_csv)\n",
    "import warnings\n",
    "warnings.filterwarnings('ignore')\n",
    "\n",
    "\n",
    "import os\n",
    "for dirname, _, filenames in os.walk('../Donem Projesi/'):\n",
    "    for filename in filenames:\n",
    "        print(os.path.join(dirname, filename))\n",
    "my_classes = ['bird', 'cat','dog','elephant','horse']"
   ]
  },
  {
   "cell_type": "markdown",
   "metadata": {},
   "source": [
    "###  Ses dosyalarını diskten kolayca yükleyebilmek için ve eğiteceğimiz model için gerekli olan kütüphaneler"
   ]
  },
  {
   "cell_type": "code",
   "execution_count": 2,
   "metadata": {},
   "outputs": [],
   "source": [
    "from IPython import display\n",
    "import matplotlib.pyplot as plt\n",
    "import numpy as np\n",
    "import pandas as pd\n",
    "import tensorflow as tf\n",
    "import tensorflow_datasets as tfds\n",
    "import tensorflow_hub as hub\n",
    "import tensorflow_io as tfio\n",
    "import seaborn as sns\n",
    "from sklearn.utils import shuffle\n",
    "from tqdm.notebook import tqdm\n",
    "from sklearn.model_selection import train_test_split"
   ]
  },
  {
   "cell_type": "markdown",
   "metadata": {},
   "source": [
    "## YAMNet'i TensorFlow Hub'dan yükleme\n",
    "### Ses dosyalarından yerleştirmeleri çıkarmak için Tensorflow Hub'dan önceden eğitilmiş bir YAMNet modeli kullanma\n"
   ]
  },
  {
   "cell_type": "code",
   "execution_count": 3,
   "metadata": {},
   "outputs": [],
   "source": [
    "yamnet_model_handle = 'https://tfhub.dev/google/yamnet/1' # TensorFlow Hub'dan bir model yüklemek basittir: \n",
    "yamnet_model = hub.load(yamnet_model_handle)            # modeli seçiyoruz ve URL'sini kopyalayın ve load işlevini kullanıyoruz."
   ]
  },
  {
   "cell_type": "markdown",
   "metadata": {},
   "source": [
    "### Ses dosyalarını yüklemek ve doğru örnekleme oranını sağlamak için fonksiyon"
   ]
  },
  {
   "cell_type": "code",
   "execution_count": 4,
   "metadata": {},
   "outputs": [],
   "source": [
    "@tf.function\n",
    "def load_wav_16k_mono(filename):\n",
    "    \"\"\" read in a waveform file and convert to 16 kHz mono \"\"\"\n",
    "    file_contents = tf.io.read_file(filename)\n",
    "    wav, sample_rate = tf.audio.decode_wav(\n",
    "          file_contents,\n",
    "          desired_channels=1)\n",
    "    wav = tf.squeeze(wav, axis=-1)\n",
    "    sample_rate = tf.cast(sample_rate, dtype=tf.int64)\n",
    "    wav = tfio.audio.resample(wav, rate_in=sample_rate, rate_out=16000)\n",
    "    return wav"
   ]
  },
  {
   "cell_type": "markdown",
   "metadata": {},
   "source": [
    "### YAMNet'in tanıyabileceği sınıf adlarını yükleme ve belirli bir kısmını listeleme"
   ]
  },
  {
   "cell_type": "code",
   "execution_count": 5,
   "metadata": {},
   "outputs": [
    {
     "name": "stdout",
     "output_type": "stream",
     "text": [
      "Speech\n",
      "Child speech, kid speaking\n",
      "Conversation\n",
      "Narration, monologue\n",
      "Babbling\n",
      "Speech synthesizer\n",
      "Shout\n",
      "Bellow\n",
      "Whoop\n",
      "Yell\n",
      "Children shouting\n",
      "Screaming\n",
      "Whispering\n",
      "Laughter\n",
      "Baby laughter\n",
      "Giggle\n",
      "Snicker\n",
      "Belly laugh\n",
      "Chuckle, chortle\n",
      "Crying, sobbing\n",
      "...\n"
     ]
    }
   ],
   "source": [
    "class_map_path = yamnet_model.class_map_path().numpy().decode('utf-8')\n",
    "class_names =list(pd.read_csv(class_map_path)['display_name'])\n",
    "\n",
    "for name in class_names[:20]:\n",
    "  print(name)\n",
    "print('...')"
   ]
  },
  {
   "cell_type": "markdown",
   "metadata": {},
   "source": [
    "###  Model eğitimi için gerekli olan ses dosyalarını diskten okuma ve tek bir sütunda birleştirme ve tür belirlemeye yardımcı olacak yeni bir sütun ekleme"
   ]
  },
  {
   "cell_type": "code",
   "execution_count": 6,
   "metadata": {},
   "outputs": [],
   "source": [
    "bird_files = '../Donem Projesi/animal_sounds/birds/' +\\\n",
    "pd.DataFrame(os.listdir(\"../Donem Projesi/animal_sounds/birds/\"),columns=[\"file_name\"])\n",
    "bird_labels = pd.DataFrame(np.asarray(np.zeros(len(bird_files))).astype(np.int32),columns=[\"label\"])\n",
    "cat_files = '../Donem Projesi/animal_sounds/cats/' +\\\n",
    "pd.DataFrame(os.listdir(\"../Donem Projesi/animal_sounds/cats/\"),columns=[\"file_name\"])\n",
    "cat_labels = pd.DataFrame(np.asarray(np.ones(len(cat_files))).astype(np.int32),columns=[\"label\"]) \n",
    "dog_files = '../Donem Projesi/animal_sounds/dogs/' +\\\n",
    "pd.DataFrame(os.listdir(\"../Donem Projesi/animal_sounds/dogs/\"),columns=[\"file_name\"])\n",
    "list_of_dogs= []\n",
    "for i in range (len(dog_files)):\n",
    "    list_of_dogs.append(2)\n",
    "dog_labels = pd.DataFrame(list_of_dogs,columns=[\"label\"],dtype=np.int32 )\n",
    "elephant_files = '../Donem Projesi/animal_sounds/elephants/' +\\\n",
    "pd.DataFrame(os.listdir(\"../Donem Projesi/animal_sounds/elephants/\"),columns=[\"file_name\"])\n",
    "list_of_elephants= []\n",
    "for i in range (len(elephant_files)):\n",
    "    list_of_elephants.append(3)\n",
    "elephant_labels = pd.DataFrame(list_of_elephants,columns=[\"label\"],dtype=np.int32 )\n",
    "horse_files = '../Donem Projesi/animal_sounds/horses/' +\\\n",
    "pd.DataFrame(os.listdir(\"../Donem Projesi/animal_sounds/horses/\"),columns=[\"file_name\"])\n",
    "list_of_horses= []\n",
    "for i in range (len(horse_files)):\n",
    "    list_of_horses.append(4)\n",
    "horse_labels = pd.DataFrame(list_of_horses,columns=[\"label\"],dtype=np.int32 )\n",
    "data=pd.concat([bird_files, cat_files, dog_files, elephant_files, horse_files]\n",
    "               ,ignore_index=True).squeeze()\n",
    "labels=pd.concat([bird_labels, cat_labels, dog_labels, elephant_labels, horse_labels]\n",
    "                 ,ignore_index=True).squeeze()\n",
    "complete=pd.concat([data,labels], axis=1)"
   ]
  },
  {
   "cell_type": "code",
   "execution_count": 7,
   "metadata": {},
   "outputs": [
    {
     "name": "stdout",
     "output_type": "stream",
     "text": [
      "3    199\n",
      "1    164\n",
      "4    136\n",
      "0    127\n",
      "2    113\n",
      "Name: label, dtype: int64\n"
     ]
    }
   ],
   "source": [
    "#Sınıf ses sayıları kontrol\n",
    "# 0 -> bird\n",
    "# 1 -> cat\n",
    "# 2 -> dog\n",
    "# 3 -> elephant\n",
    "# 4 -> horse\n",
    "\n",
    "a =complete.label.value_counts()\n",
    "print(a)"
   ]
  },
  {
   "cell_type": "markdown",
   "metadata": {},
   "source": [
    "# Train-test Split\n",
    "\n",
    "### Modelimiz 'load_wav_16k_mano' fonksiyonu ile uygulanacak model için WAV verilerini hazırlıyor. WAV verilerinden yerleştirmeleri çıkarırken bir şekil dizisi (N,1024) elde ediyoruz. Burada N sayısı, YAMNet modelinin bulduğu kare sayısıdır.\n",
    "### Ve modelimiz her kareyi bir girdi olarak kullanacaktır.  Bu nedenle, satır başına bir çerçeve içeren yeni bir sütun oluşturmamız gerekir. Bu yeni satırları uygun şekilde yansıtmak için etiketleri ve fold sütununu da genişletmemiz gerekir. Genişletilmiş fold sütunu, orijinal değerleri korur. Çerçeveleri karıştıramazsınız çünkü bölmeleri gerçekleştirirken, farklı bölmelerde aynı sesin parçalarına sahip olabilirsiniz, bu da doğrulama ve test adımlarınızı daha az etkili hale getirir.\n"
   ]
  },
  {
   "cell_type": "code",
   "execution_count": 9,
   "metadata": {},
   "outputs": [
    {
     "name": "stdout",
     "output_type": "stream",
     "text": [
      ">Train: 0=85, 1=110, 2=76, 3=133, 4=92\n",
      ">Test: 0=19, 1=25, 2=17, 3=30, 4=20\n",
      ">Val: 0=23, 1=29, 2=20, 3=36, 4=24\n"
     ]
    },
    {
     "data": {
      "text/html": [
       "<div>\n",
       "<style scoped>\n",
       "    .dataframe tbody tr th:only-of-type {\n",
       "        vertical-align: middle;\n",
       "    }\n",
       "\n",
       "    .dataframe tbody tr th {\n",
       "        vertical-align: top;\n",
       "    }\n",
       "\n",
       "    .dataframe thead th {\n",
       "        text-align: right;\n",
       "    }\n",
       "</style>\n",
       "<table border=\"1\" class=\"dataframe\">\n",
       "  <thead>\n",
       "    <tr style=\"text-align: right;\">\n",
       "      <th></th>\n",
       "      <th>file_name</th>\n",
       "      <th>label</th>\n",
       "      <th>fold</th>\n",
       "    </tr>\n",
       "  </thead>\n",
       "  <tbody>\n",
       "    <tr>\n",
       "      <th>137</th>\n",
       "      <td>../Donem Projesi/animal_sounds/cats/cat_109.wav</td>\n",
       "      <td>1</td>\n",
       "      <td>trainX</td>\n",
       "    </tr>\n",
       "    <tr>\n",
       "      <th>729</th>\n",
       "      <td>../Donem Projesi/animal_sounds/horses/horse (9...</td>\n",
       "      <td>4</td>\n",
       "      <td>valX</td>\n",
       "    </tr>\n",
       "    <tr>\n",
       "      <th>236</th>\n",
       "      <td>../Donem Projesi/animal_sounds/cats/cat_5.wav</td>\n",
       "      <td>1</td>\n",
       "      <td>trainX</td>\n",
       "    </tr>\n",
       "    <tr>\n",
       "      <th>668</th>\n",
       "      <td>../Donem Projesi/animal_sounds/horses/horse (3...</td>\n",
       "      <td>4</td>\n",
       "      <td>valX</td>\n",
       "    </tr>\n",
       "    <tr>\n",
       "      <th>330</th>\n",
       "      <td>../Donem Projesi/animal_sounds/dogs/dog_barkin...</td>\n",
       "      <td>2</td>\n",
       "      <td>valX</td>\n",
       "    </tr>\n",
       "  </tbody>\n",
       "</table>\n",
       "</div>"
      ],
      "text/plain": [
       "                                             file_name  label    fold\n",
       "137    ../Donem Projesi/animal_sounds/cats/cat_109.wav      1  trainX\n",
       "729  ../Donem Projesi/animal_sounds/horses/horse (9...      4    valX\n",
       "236      ../Donem Projesi/animal_sounds/cats/cat_5.wav      1  trainX\n",
       "668  ../Donem Projesi/animal_sounds/horses/horse (3...      4    valX\n",
       "330  ../Donem Projesi/animal_sounds/dogs/dog_barkin...      2    valX"
      ]
     },
     "execution_count": 9,
     "metadata": {},
     "output_type": "execute_result"
    }
   ],
   "source": [
    "X=complete[\"file_name\"].values\n",
    "y=complete[\"label\"].values\n",
    "\n",
    "trainX, testX, trainy, testy = train_test_split(X, y, test_size=0.15, random_state=2, stratify=y)\n",
    "trainX, valX, trainy, valy = train_test_split(trainX, trainy, test_size=0.21, random_state=2, stratify=trainy)\n",
    "    \n",
    "train_0, train_1,train_2 = len(trainy[trainy==0]), len(trainy[trainy==1]), len(trainy[trainy==2])\n",
    "train_3, train_4 = len(trainy[trainy==3]), len(trainy[trainy==4])\n",
    "\n",
    "test_0, test_1,test_2 = len(testy[testy==0]), len(testy[testy==1]), len(testy[testy==2])\n",
    "test_3, test_4 = len(testy[testy==3]), len(testy[testy==4])\n",
    "                                                                        \n",
    "val_0, val_1, val_2 = len(valy[valy==0]), len(valy[valy==1]), len(valy[valy==2])\n",
    "val_3, val_4 = len(valy[valy==3]), len(valy[valy==4])  \n",
    "\n",
    "                                                                        \n",
    "print('>Train: 0=%d, 1=%d, 2=%d, 3=%d, 4=%d' % (train_0, train_1, train_2, train_3, train_4))\n",
    "print('>Test: 0=%d, 1=%d, 2=%d, 3=%d, 4=%d' % (test_0, test_1, test_2, test_3, test_4))\n",
    "print('>Val: 0=%d, 1=%d, 2=%d, 3=%d, 4=%d' % (val_0, val_1, val_2, val_3, val_4))\n",
    "                                                                        \n",
    "                                                                        \n",
    "folds=[]\n",
    "for file in X:\n",
    "    if file in testX:\n",
    "        folds.append(\"testX\")\n",
    "    elif file in valX:\n",
    "        folds.append(\"valX\")\n",
    "    else: folds.append(\"trainX\")\n",
    "        \n",
    "        \n",
    "fold_names = pd.DataFrame(folds,columns=[\"fold\"]).squeeze()\n",
    "complete=pd.concat([complete,fold_names], axis=1)\n",
    "complete = shuffle(complete)\n",
    "complete.head()"
   ]
  },
  {
   "cell_type": "markdown",
   "metadata": {},
   "source": [
    "# Ses dosyalarını yükleme ve yerleştirmeleri alma"
   ]
  },
  {
   "cell_type": "code",
   "execution_count": 47,
   "metadata": {},
   "outputs": [
    {
     "data": {
      "text/plain": [
       "(TensorSpec(shape=(), dtype=tf.string, name=None),\n",
       " TensorSpec(shape=(), dtype=tf.int32, name=None),\n",
       " TensorSpec(shape=(), dtype=tf.string, name=None))"
      ]
     },
     "execution_count": 47,
     "metadata": {},
     "output_type": "execute_result"
    }
   ],
   "source": [
    "main_ds = tf.data.Dataset.from_tensor_slices((data, labels,folds))\n",
    "main_ds.element_spec"
   ]
  },
  {
   "cell_type": "code",
   "execution_count": 48,
   "metadata": {},
   "outputs": [],
   "source": [
    "def load_wav_for_map(filename, label, fold):\n",
    "  return load_wav_16k_mono(filename), label, fold"
   ]
  },
  {
   "cell_type": "code",
   "execution_count": 49,
   "metadata": {},
   "outputs": [
    {
     "name": "stdout",
     "output_type": "stream",
     "text": [
      "WARNING:tensorflow:Using a while_loop for converting IO>AudioResample\n"
     ]
    },
    {
     "name": "stderr",
     "output_type": "stream",
     "text": [
      "WARNING:tensorflow:Using a while_loop for converting IO>AudioResample\n"
     ]
    },
    {
     "data": {
      "text/plain": [
       "(TensorSpec(shape=<unknown>, dtype=tf.float32, name=None),\n",
       " TensorSpec(shape=(), dtype=tf.int32, name=None),\n",
       " TensorSpec(shape=(), dtype=tf.string, name=None))"
      ]
     },
     "execution_count": 49,
     "metadata": {},
     "output_type": "execute_result"
    }
   ],
   "source": [
    "main_ds = main_ds.map(load_wav_for_map)\n",
    "main_ds.element_spec"
   ]
  },
  {
   "cell_type": "code",
   "execution_count": 50,
   "metadata": {},
   "outputs": [
    {
     "data": {
      "text/plain": [
       "(TensorSpec(shape=(1024,), dtype=tf.float32, name=None),\n",
       " TensorSpec(shape=(), dtype=tf.int32, name=None),\n",
       " TensorSpec(shape=(), dtype=tf.string, name=None))"
      ]
     },
     "execution_count": 50,
     "metadata": {},
     "output_type": "execute_result"
    }
   ],
   "source": [
    "# gömme çıkarma modelini bir wav verisine uygular\n",
    "def extract_embedding(wav_data, label, fold):\n",
    "  \n",
    "  scores, embeddings, spectrogram = yamnet_model(wav_data)\n",
    "  num_embeddings = tf.shape(embeddings)[0]\n",
    "  return (embeddings,\n",
    "            tf.repeat(label, num_embeddings),\n",
    "            tf.repeat(fold, num_embeddings))\n",
    "\n",
    "# extract embedding (gömme çıkarma)\n",
    "main_ds = main_ds.map(extract_embedding).unbatch()\n",
    "main_ds.element_spec"
   ]
  },
  {
   "cell_type": "markdown",
   "metadata": {},
   "source": [
    "# Verileri bölme\n"
   ]
  },
  {
   "cell_type": "code",
   "execution_count": 26,
   "metadata": {},
   "outputs": [],
   "source": [
    "# veri setini train,validation ve teste bölmek için fold sütunundan yararlanma\n",
    "# fold değerleri aynı orijinal wav dosyasındaki dosyaların aynı bölmede tutulacağı şekildedir.\n",
    "cached_ds = main_ds.cache()\n",
    "train_ds = cached_ds.filter(lambda embedding, label, fold: fold == \"trainX\")\n",
    "val_ds = cached_ds.filter(lambda embedding, label, fold: fold == \"valX\")\n",
    "test_ds = cached_ds.filter(lambda embedding, label, fold: fold == \"testX\")\n",
    "\n",
    "# artık gerekli olmadığı için folds sütununu kaldıralım\n",
    "remove_fold_column = lambda embedding, label, fold: (embedding, label)\n",
    "\n",
    "train_ds = train_ds.map(remove_fold_column)\n",
    "val_ds = val_ds.map(remove_fold_column)\n",
    "test_ds = test_ds.map(remove_fold_column)\n",
    "\n",
    "train_ds = train_ds.cache().shuffle(1000).batch(32).prefetch(tf.data.AUTOTUNE)\n",
    "val_ds = val_ds.cache().batch(32).prefetch(tf.data.AUTOTUNE)\n",
    "test_ds = test_ds.cache().batch(32).prefetch(tf.data.AUTOTUNE)"
   ]
  },
  {
   "cell_type": "markdown",
   "metadata": {},
   "source": [
    "# Model Oluşturma\n",
    "### Model oluşturmaya başlamak için Sequential Model yani Sıralı Model tanımlayalım --> bir gizli katman ve kuşları, kedileri, köpekleri, filleri ve atları tanımak için 5 çıktı"
   ]
  },
  {
   "cell_type": "code",
   "execution_count": 27,
   "metadata": {},
   "outputs": [
    {
     "name": "stdout",
     "output_type": "stream",
     "text": [
      "WARNING:tensorflow:Please add `keras.layers.InputLayer` instead of `keras.Input` to Sequential model. `keras.Input` is intended to be used by Functional model.\n"
     ]
    },
    {
     "name": "stderr",
     "output_type": "stream",
     "text": [
      "WARNING:tensorflow:Please add `keras.layers.InputLayer` instead of `keras.Input` to Sequential model. `keras.Input` is intended to be used by Functional model.\n"
     ]
    },
    {
     "name": "stdout",
     "output_type": "stream",
     "text": [
      "Model: \"my_model\"\n",
      "_________________________________________________________________\n",
      "Layer (type)                 Output Shape              Param #   \n",
      "=================================================================\n",
      "dense_5 (Dense)              (None, 1024)              1049600   \n",
      "_________________________________________________________________\n",
      "dense_6 (Dense)              (None, 512)               524800    \n",
      "_________________________________________________________________\n",
      "dense_7 (Dense)              (None, 256)               131328    \n",
      "_________________________________________________________________\n",
      "dense_8 (Dense)              (None, 128)               32896     \n",
      "_________________________________________________________________\n",
      "dense_9 (Dense)              (None, 5)                 645       \n",
      "=================================================================\n",
      "Total params: 1,739,269\n",
      "Trainable params: 1,739,269\n",
      "Non-trainable params: 0\n",
      "_________________________________________________________________\n"
     ]
    }
   ],
   "source": [
    "my_model = tf.keras.Sequential([\n",
    "    tf.keras.layers.Input(shape=(1024), dtype=tf.float32,\n",
    "                          name='input_embedding'),\n",
    "    tf.keras.layers.Dense(1024, activation='relu'),\n",
    "    tf.keras.layers.Dense(512, activation='relu'),\n",
    "    tf.keras.layers.Dense(256, activation='relu'),\n",
    "    tf.keras.layers.Dense(128, activation='relu'),\n",
    "    tf.keras.layers.Dense(len(my_classes))\n",
    "], name='my_model')\n",
    "\n",
    "my_model.summary()"
   ]
  },
  {
   "cell_type": "code",
   "execution_count": 28,
   "metadata": {},
   "outputs": [],
   "source": [
    "my_model.compile(loss=tf.keras.losses.SparseCategoricalCrossentropy(from_logits=True),\n",
    "                 optimizer=\"adam\",\n",
    "                 metrics=['accuracy'])\n",
    "\n",
    "callback = tf.keras.callbacks.EarlyStopping(monitor='loss',\n",
    "                                            patience=12,\n",
    "                                            restore_best_weights=True)"
   ]
  },
  {
   "cell_type": "code",
   "execution_count": 29,
   "metadata": {
    "scrolled": true
   },
   "outputs": [
    {
     "name": "stdout",
     "output_type": "stream",
     "text": [
      "Epoch 1/50\n",
      "123/123 [==============================] - 26s 153ms/step - loss: 0.6257 - accuracy: 0.8649 - val_loss: 0.9799 - val_accuracy: 0.7077\n",
      "Epoch 2/50\n",
      "123/123 [==============================] - 2s 14ms/step - loss: 0.2768 - accuracy: 0.9252 - val_loss: 0.8677 - val_accuracy: 0.7378\n",
      "Epoch 3/50\n",
      "123/123 [==============================] - 2s 14ms/step - loss: 0.2129 - accuracy: 0.9430 - val_loss: 0.6723 - val_accuracy: 0.8064\n",
      "Epoch 4/50\n",
      "123/123 [==============================] - 2s 14ms/step - loss: 0.1337 - accuracy: 0.9623 - val_loss: 0.8455 - val_accuracy: 0.8008\n",
      "Epoch 5/50\n",
      "123/123 [==============================] - 2s 14ms/step - loss: 0.1355 - accuracy: 0.9613 - val_loss: 0.7401 - val_accuracy: 0.8195\n",
      "Epoch 6/50\n",
      "123/123 [==============================] - 2s 14ms/step - loss: 0.1195 - accuracy: 0.9720 - val_loss: 0.6711 - val_accuracy: 0.8242\n",
      "Epoch 7/50\n",
      "123/123 [==============================] - 2s 14ms/step - loss: 0.0836 - accuracy: 0.9751 - val_loss: 0.7901 - val_accuracy: 0.8214\n",
      "Epoch 8/50\n",
      "123/123 [==============================] - 2s 14ms/step - loss: 0.0739 - accuracy: 0.9771 - val_loss: 0.8577 - val_accuracy: 0.8045\n",
      "Epoch 9/50\n",
      "123/123 [==============================] - 2s 14ms/step - loss: 0.0453 - accuracy: 0.9870 - val_loss: 1.0312 - val_accuracy: 0.7857\n",
      "Epoch 10/50\n",
      "123/123 [==============================] - 2s 14ms/step - loss: 0.0546 - accuracy: 0.9824 - val_loss: 0.8716 - val_accuracy: 0.8130\n",
      "Epoch 11/50\n",
      "123/123 [==============================] - 2s 14ms/step - loss: 0.0425 - accuracy: 0.9863 - val_loss: 1.1571 - val_accuracy: 0.8120\n",
      "Epoch 12/50\n",
      "123/123 [==============================] - 2s 14ms/step - loss: 0.0586 - accuracy: 0.9865 - val_loss: 1.0946 - val_accuracy: 0.8261\n",
      "Epoch 13/50\n",
      "123/123 [==============================] - 2s 14ms/step - loss: 0.0300 - accuracy: 0.9908 - val_loss: 1.1718 - val_accuracy: 0.7942\n",
      "Epoch 14/50\n",
      "123/123 [==============================] - 2s 14ms/step - loss: 0.0520 - accuracy: 0.9840 - val_loss: 0.8843 - val_accuracy: 0.8233\n",
      "Epoch 15/50\n",
      "123/123 [==============================] - 2s 14ms/step - loss: 0.0286 - accuracy: 0.9913 - val_loss: 1.0597 - val_accuracy: 0.8261\n",
      "Epoch 16/50\n",
      "123/123 [==============================] - 2s 14ms/step - loss: 0.0266 - accuracy: 0.9921 - val_loss: 1.2219 - val_accuracy: 0.8167\n",
      "Epoch 17/50\n",
      "123/123 [==============================] - 2s 14ms/step - loss: 0.0203 - accuracy: 0.9921 - val_loss: 1.1617 - val_accuracy: 0.8280\n",
      "Epoch 18/50\n",
      "123/123 [==============================] - 2s 14ms/step - loss: 0.0145 - accuracy: 0.9952 - val_loss: 1.5014 - val_accuracy: 0.8346\n",
      "Epoch 19/50\n",
      "123/123 [==============================] - 2s 14ms/step - loss: 0.0099 - accuracy: 0.9957 - val_loss: 1.6037 - val_accuracy: 0.8214\n",
      "Epoch 20/50\n",
      "123/123 [==============================] - 2s 14ms/step - loss: 0.0138 - accuracy: 0.9954 - val_loss: 1.5213 - val_accuracy: 0.8365\n",
      "Epoch 21/50\n",
      "123/123 [==============================] - 2s 14ms/step - loss: 0.0319 - accuracy: 0.9919 - val_loss: 1.2112 - val_accuracy: 0.8289\n",
      "Epoch 22/50\n",
      "123/123 [==============================] - 2s 14ms/step - loss: 0.0257 - accuracy: 0.9936 - val_loss: 1.3176 - val_accuracy: 0.8130\n",
      "Epoch 23/50\n",
      "123/123 [==============================] - 2s 14ms/step - loss: 0.0302 - accuracy: 0.9931 - val_loss: 1.2015 - val_accuracy: 0.8186\n",
      "Epoch 24/50\n",
      "123/123 [==============================] - 2s 14ms/step - loss: 0.0281 - accuracy: 0.9919 - val_loss: 1.1625 - val_accuracy: 0.8468\n",
      "Epoch 25/50\n",
      "123/123 [==============================] - 2s 14ms/step - loss: 0.0162 - accuracy: 0.9957 - val_loss: 1.4508 - val_accuracy: 0.8402\n",
      "Epoch 26/50\n",
      "123/123 [==============================] - 2s 14ms/step - loss: 0.0311 - accuracy: 0.9952 - val_loss: 1.3085 - val_accuracy: 0.8214\n",
      "Epoch 27/50\n",
      "123/123 [==============================] - 2s 14ms/step - loss: 0.0127 - accuracy: 0.9969 - val_loss: 1.4981 - val_accuracy: 0.8383\n",
      "Epoch 28/50\n",
      "123/123 [==============================] - 2s 14ms/step - loss: 0.0098 - accuracy: 0.9969 - val_loss: 1.6900 - val_accuracy: 0.8393\n",
      "Epoch 29/50\n",
      "123/123 [==============================] - 2s 14ms/step - loss: 0.0064 - accuracy: 0.9975 - val_loss: 1.7301 - val_accuracy: 0.8412\n",
      "Epoch 30/50\n",
      "123/123 [==============================] - 2s 14ms/step - loss: 0.0080 - accuracy: 0.9977 - val_loss: 1.5372 - val_accuracy: 0.8412\n",
      "Epoch 31/50\n",
      "123/123 [==============================] - 2s 14ms/step - loss: 0.0099 - accuracy: 0.9969 - val_loss: 1.8125 - val_accuracy: 0.8064\n",
      "Epoch 32/50\n",
      "123/123 [==============================] - 2s 14ms/step - loss: 0.0233 - accuracy: 0.9939 - val_loss: 1.6449 - val_accuracy: 0.8271\n",
      "Epoch 33/50\n",
      "123/123 [==============================] - 2s 14ms/step - loss: 0.0115 - accuracy: 0.9959 - val_loss: 1.7640 - val_accuracy: 0.8233\n",
      "Epoch 34/50\n",
      "123/123 [==============================] - 2s 14ms/step - loss: 0.0127 - accuracy: 0.9969 - val_loss: 1.6617 - val_accuracy: 0.8327\n",
      "Epoch 35/50\n",
      "123/123 [==============================] - 2s 14ms/step - loss: 0.0049 - accuracy: 0.9980 - val_loss: 1.6796 - val_accuracy: 0.8280\n",
      "Epoch 36/50\n",
      "123/123 [==============================] - 2s 14ms/step - loss: 0.0245 - accuracy: 0.9954 - val_loss: 1.4675 - val_accuracy: 0.8205\n",
      "Epoch 37/50\n",
      "123/123 [==============================] - 2s 14ms/step - loss: 0.0097 - accuracy: 0.9975 - val_loss: 1.7418 - val_accuracy: 0.8374\n",
      "Epoch 38/50\n",
      "123/123 [==============================] - 2s 14ms/step - loss: 0.0155 - accuracy: 0.9967 - val_loss: 1.6382 - val_accuracy: 0.8318\n",
      "Epoch 39/50\n",
      "123/123 [==============================] - 2s 14ms/step - loss: 0.0064 - accuracy: 0.9977 - val_loss: 1.9629 - val_accuracy: 0.8412\n",
      "Epoch 40/50\n",
      "123/123 [==============================] - 2s 14ms/step - loss: 0.0055 - accuracy: 0.9985 - val_loss: 1.9126 - val_accuracy: 0.8459\n",
      "Epoch 41/50\n",
      "123/123 [==============================] - 2s 14ms/step - loss: 0.0049 - accuracy: 0.9985 - val_loss: 2.3084 - val_accuracy: 0.8355\n",
      "Epoch 42/50\n",
      "123/123 [==============================] - 2s 14ms/step - loss: 0.0023 - accuracy: 0.9992 - val_loss: 2.3401 - val_accuracy: 0.8412\n",
      "Epoch 43/50\n",
      "123/123 [==============================] - 2s 14ms/step - loss: 0.0040 - accuracy: 0.9982 - val_loss: 2.2600 - val_accuracy: 0.8468\n",
      "Epoch 44/50\n",
      "123/123 [==============================] - 2s 14ms/step - loss: 0.0025 - accuracy: 0.9990 - val_loss: 2.1277 - val_accuracy: 0.8383\n",
      "Epoch 45/50\n",
      "123/123 [==============================] - 2s 14ms/step - loss: 0.0019 - accuracy: 0.9995 - val_loss: 2.5495 - val_accuracy: 0.8459\n",
      "Epoch 46/50\n",
      "123/123 [==============================] - 2s 14ms/step - loss: 0.0014 - accuracy: 0.9995 - val_loss: 2.5797 - val_accuracy: 0.8477\n",
      "Epoch 47/50\n",
      "123/123 [==============================] - 2s 14ms/step - loss: 0.0012 - accuracy: 0.9995 - val_loss: 2.6270 - val_accuracy: 0.8477\n",
      "Epoch 48/50\n",
      "123/123 [==============================] - 2s 14ms/step - loss: 0.0010 - accuracy: 0.9995 - val_loss: 2.6642 - val_accuracy: 0.8459\n",
      "Epoch 49/50\n",
      "123/123 [==============================] - 2s 14ms/step - loss: 8.6881e-04 - accuracy: 0.9995 - val_loss: 2.7081 - val_accuracy: 0.8459\n",
      "Epoch 50/50\n",
      "123/123 [==============================] - 2s 14ms/step - loss: 7.1189e-04 - accuracy: 0.9997 - val_loss: 2.7725 - val_accuracy: 0.8449\n"
     ]
    }
   ],
   "source": [
    "history = my_model.fit(train_ds,\n",
    "                       epochs=50,\n",
    "                       validation_data=val_ds,\n",
    "                       callbacks=callback)"
   ]
  },
  {
   "cell_type": "code",
   "execution_count": 30,
   "metadata": {},
   "outputs": [
    {
     "name": "stdout",
     "output_type": "stream",
     "text": [
      "31/31 [==============================] - 0s 6ms/step - loss: 2.2355 - accuracy: 0.8784\n",
      "Loss:  2.235492467880249\n",
      "Accuracy:  0.8784194588661194\n"
     ]
    }
   ],
   "source": [
    "loss, accuracy = my_model.evaluate(test_ds)\n",
    "print(\"Loss: \", loss)\n",
    "print(\"Accuracy: \", accuracy)"
   ]
  },
  {
   "cell_type": "markdown",
   "metadata": {},
   "source": [
    "### Eğitim sırasında modelmiizin nasıl geliştiğini görmek için eğitim ve doğrulama kaybı eğrilerini kontrol etme."
   ]
  },
  {
   "cell_type": "code",
   "execution_count": 31,
   "metadata": {},
   "outputs": [
    {
     "data": {
      "image/png": "[encoded data removed]",
      "text/plain": [
       "<Figure size 432x288 with 1 Axes>"
      ]
     },
     "metadata": {
      "needs_background": "light"
     },
     "output_type": "display_data"
    }
   ],
   "source": [
    "metrics = history.history\n",
    "plt.plot(history.epoch, metrics['loss'], metrics['val_loss'])\n",
    "plt.legend(['loss', 'val_loss'])\n",
    "plt.show()"
   ]
  },
  {
   "cell_type": "markdown",
   "metadata": {},
   "source": [
    "# Doğrudan bir WAV dosyasını girdi olarak alabilen bir modeli kaydetme\n",
    "### Model, girdi olarak yerleştirmeleri aldığında çalışır. Gerçek bir durumda, ona ses verilerini doğrudan vermek istiyoruz. Bunu yapmak için, YAMNet'i yeni modelle, diğer uygulamalar için dışa aktarılabilecek tek bir modelde birleştireceğiz. Modelin sonucunu kullanmayı kolaylaştırmak için son katman bir reduce_mean yani azaltma ve ortalama işlemi olacaktır."
   ]
  },
  {
   "cell_type": "code",
   "execution_count": 32,
   "metadata": {},
   "outputs": [
    {
     "name": "stdout",
     "output_type": "stream",
     "text": [
      "WARNING:tensorflow:Compiled the loaded model, but the compiled metrics have yet to be built. `model.compile_metrics` will be empty until you train or evaluate the model.\n"
     ]
    },
    {
     "name": "stderr",
     "output_type": "stream",
     "text": [
      "WARNING:tensorflow:Compiled the loaded model, but the compiled metrics have yet to be built. `model.compile_metrics` will be empty until you train or evaluate the model.\n"
     ]
    },
    {
     "name": "stdout",
     "output_type": "stream",
     "text": [
      "INFO:tensorflow:Assets written to: ./animals_sounds_yamnet\\assets\n"
     ]
    },
    {
     "name": "stderr",
     "output_type": "stream",
     "text": [
      "INFO:tensorflow:Assets written to: ./animals_sounds_yamnet\\assets\n"
     ]
    }
   ],
   "source": [
    "class ReduceMeanLayer(tf.keras.layers.Layer):\n",
    "  def __init__(self, axis=0, **kwargs):\n",
    "    super(ReduceMeanLayer, self).__init__(**kwargs)\n",
    "    self.axis = axis\n",
    "\n",
    "  def call(self, input):\n",
    "    return tf.math.reduce_mean(input, axis=self.axis)\n",
    "\n",
    "\n",
    "saved_model_path = './animals_sounds_yamnet'\n",
    "\n",
    "input_segment = tf.keras.layers.Input(shape=(), dtype=tf.float32, name='audio')\n",
    "embedding_extraction_layer = hub.KerasLayer(yamnet_model_handle,\n",
    "                                            trainable=False, name='yamnet')\n",
    "_, embeddings_output, _ = embedding_extraction_layer(input_segment)\n",
    "serving_outputs = my_model(embeddings_output)\n",
    "serving_outputs = ReduceMeanLayer(axis=0, name='classifier')(serving_outputs)\n",
    "serving_model = tf.keras.Model(input_segment, serving_outputs)\n",
    "serving_model.save(saved_model_path, include_optimizer=False)\n",
    "\n",
    "\n",
    "#Load the saved model to verify that it works as expected.\n",
    "reloaded_model = tf.saved_model.load(saved_model_path)"
   ]
  },
  {
   "cell_type": "code",
   "execution_count": 39,
   "metadata": {},
   "outputs": [
    {
     "name": "stdout",
     "output_type": "stream",
     "text": [
      "../Donem Projesi/animal_sounds/birds/bird (61).wav\n",
      "Waveform values: [ 2.3483253e-08 -1.1317870e-07  2.7907853e-07 ... -1.3976282e-03\n",
      " -1.2619771e-03 -1.7866860e-03]\n"
     ]
    },
    {
     "data": {
      "text/html": [
       "\n",
       "                <audio  controls=\"controls\" >\n",
       "                    <source src=\"data:audio/wav;base64,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\" type=\"audio/wav\" />\n",
       "                    Your browser does not support the audio element.\n",
       "                </audio>\n",
       "              "
      ],
      "text/plain": [
       "<IPython.lib.display.Audio object>"
      ]
     },
     "execution_count": 39,
     "metadata": {},
     "output_type": "execute_result"
    },
    {
     "data": {
      "image/png": "[encoded data removed]",
      "text/plain": [
       "<Figure size 432x288 with 1 Axes>"
      ]
     },
     "metadata": {
      "needs_background": "light"
     },
     "output_type": "display_data"
    }
   ],
   "source": [
    "test_pd = complete.loc[complete['fold'] == \"testX\"] \n",
    "row = test_pd.sample(1)\n",
    "filename = row['file_name'].item()\n",
    "print(filename)\n",
    "waveform = load_wav_16k_mono(filename)\n",
    "print(f'Waveform values: {waveform}')\n",
    "_ = plt.plot(waveform)\n",
    "\n",
    "display.Audio(waveform, rate=16000)"
   ]
  },
  {
   "cell_type": "code",
   "execution_count": 40,
   "metadata": {},
   "outputs": [
    {
     "name": "stdout",
     "output_type": "stream",
     "text": [
      "[YAMNet] The main sound is: Bird (0.9909765124320984)\n",
      "[Our model] The main sound is: bird (1.0)\n"
     ]
    }
   ],
   "source": [
    "# Run the model, check the output.\n",
    "scores, embeddings, spectrogram = yamnet_model(waveform)\n",
    "class_scores = tf.reduce_mean(scores, axis=0)\n",
    "top_class = tf.argmax(class_scores)\n",
    "infered_class = class_names[top_class]\n",
    "top_score = class_scores[top_class]\n",
    "print(f'[YAMNet] The main sound is: {infered_class} ({top_score})')\n",
    "\n",
    "reloaded_results = reloaded_model(waveform)\n",
    "your_top_class = tf.argmax(reloaded_results)\n",
    "your_infered_class = my_classes[your_top_class]\n",
    "class_probabilities = tf.nn.softmax(reloaded_results, axis=-1)\n",
    "your_top_score = class_probabilities[your_top_class]\n",
    "print(f'[Our model] The main sound is: {your_infered_class} ({your_top_score})')"
   ]
  },
  {
   "cell_type": "markdown",
   "metadata": {},
   "source": [
    "## Hazırladığımız test setinin performansını belirleme"
   ]
  },
  {
   "cell_type": "code",
   "execution_count": 35,
   "metadata": {},
   "outputs": [
    {
     "name": "stdout",
     "output_type": "stream",
     "text": [
      "WARNING:tensorflow:Using a while_loop for converting IO>AudioResample\n"
     ]
    },
    {
     "name": "stderr",
     "output_type": "stream",
     "text": [
      "WARNING:tensorflow:Using a while_loop for converting IO>AudioResample\n"
     ]
    },
    {
     "name": "stdout",
     "output_type": "stream",
     "text": [
      "WARNING:tensorflow:Using a while_loop for converting IO>AudioResample\n"
     ]
    },
    {
     "name": "stderr",
     "output_type": "stream",
     "text": [
      "WARNING:tensorflow:Using a while_loop for converting IO>AudioResample\n"
     ]
    },
    {
     "name": "stdout",
     "output_type": "stream",
     "text": [
      "WARNING:tensorflow:Using a while_loop for converting IO>AudioResample\n"
     ]
    },
    {
     "name": "stderr",
     "output_type": "stream",
     "text": [
      "WARNING:tensorflow:Using a while_loop for converting IO>AudioResample\n"
     ]
    },
    {
     "name": "stdout",
     "output_type": "stream",
     "text": [
      "WARNING:tensorflow:Using a while_loop for converting IO>AudioResample\n"
     ]
    },
    {
     "name": "stderr",
     "output_type": "stream",
     "text": [
      "WARNING:tensorflow:Using a while_loop for converting IO>AudioResample\n"
     ]
    },
    {
     "name": "stdout",
     "output_type": "stream",
     "text": [
      "WARNING:tensorflow:5 out of the last 5 calls to <function load_wav_16k_mono at 0x0000017B4214E310> triggered tf.function retracing. Tracing is expensive and the excessive number of tracings could be due to (1) creating @tf.function repeatedly in a loop, (2) passing tensors with different shapes, (3) passing Python objects instead of tensors. For (1), please define your @tf.function outside of the loop. For (2), @tf.function has experimental_relax_shapes=True option that relaxes argument shapes that can avoid unnecessary retracing. For (3), please refer to https://www.tensorflow.org/guide/function#controlling_retracing and https://www.tensorflow.org/api_docs/python/tf/function for  more details.\n"
     ]
    },
    {
     "name": "stderr",
     "output_type": "stream",
     "text": [
      "WARNING:tensorflow:5 out of the last 5 calls to <function load_wav_16k_mono at 0x0000017B4214E310> triggered tf.function retracing. Tracing is expensive and the excessive number of tracings could be due to (1) creating @tf.function repeatedly in a loop, (2) passing tensors with different shapes, (3) passing Python objects instead of tensors. For (1), please define your @tf.function outside of the loop. For (2), @tf.function has experimental_relax_shapes=True option that relaxes argument shapes that can avoid unnecessary retracing. For (3), please refer to https://www.tensorflow.org/guide/function#controlling_retracing and https://www.tensorflow.org/api_docs/python/tf/function for  more details.\n"
     ]
    },
    {
     "name": "stdout",
     "output_type": "stream",
     "text": [
      "WARNING:tensorflow:Using a while_loop for converting IO>AudioResample\n"
     ]
    },
    {
     "name": "stderr",
     "output_type": "stream",
     "text": [
      "WARNING:tensorflow:Using a while_loop for converting IO>AudioResample\n"
     ]
    },
    {
     "name": "stdout",
     "output_type": "stream",
     "text": [
      "WARNING:tensorflow:6 out of the last 6 calls to <function load_wav_16k_mono at 0x0000017B4214E310> triggered tf.function retracing. Tracing is expensive and the excessive number of tracings could be due to (1) creating @tf.function repeatedly in a loop, (2) passing tensors with different shapes, (3) passing Python objects instead of tensors. For (1), please define your @tf.function outside of the loop. For (2), @tf.function has experimental_relax_shapes=True option that relaxes argument shapes that can avoid unnecessary retracing. For (3), please refer to https://www.tensorflow.org/guide/function#controlling_retracing and https://www.tensorflow.org/api_docs/python/tf/function for  more details.\n"
     ]
    },
    {
     "name": "stderr",
     "output_type": "stream",
     "text": [
      "WARNING:tensorflow:6 out of the last 6 calls to <function load_wav_16k_mono at 0x0000017B4214E310> triggered tf.function retracing. Tracing is expensive and the excessive number of tracings could be due to (1) creating @tf.function repeatedly in a loop, (2) passing tensors with different shapes, (3) passing Python objects instead of tensors. For (1), please define your @tf.function outside of the loop. For (2), @tf.function has experimental_relax_shapes=True option that relaxes argument shapes that can avoid unnecessary retracing. For (3), please refer to https://www.tensorflow.org/guide/function#controlling_retracing and https://www.tensorflow.org/api_docs/python/tf/function for  more details.\n"
     ]
    },
    {
     "name": "stdout",
     "output_type": "stream",
     "text": [
      "WARNING:tensorflow:Using a while_loop for converting IO>AudioResample\n"
     ]
    },
    {
     "name": "stderr",
     "output_type": "stream",
     "text": [
      "WARNING:tensorflow:Using a while_loop for converting IO>AudioResample\n"
     ]
    },
    {
     "name": "stdout",
     "output_type": "stream",
     "text": [
      "WARNING:tensorflow:Using a while_loop for converting IO>AudioResample\n"
     ]
    },
    {
     "name": "stderr",
     "output_type": "stream",
     "text": [
      "WARNING:tensorflow:Using a while_loop for converting IO>AudioResample\n"
     ]
    },
    {
     "name": "stdout",
     "output_type": "stream",
     "text": [
      "WARNING:tensorflow:Using a while_loop for converting IO>AudioResample\n"
     ]
    },
    {
     "name": "stderr",
     "output_type": "stream",
     "text": [
      "WARNING:tensorflow:Using a while_loop for converting IO>AudioResample\n"
     ]
    },
    {
     "name": "stdout",
     "output_type": "stream",
     "text": [
      "WARNING:tensorflow:Using a while_loop for converting IO>AudioResample\n"
     ]
    },
    {
     "name": "stderr",
     "output_type": "stream",
     "text": [
      "WARNING:tensorflow:Using a while_loop for converting IO>AudioResample\n"
     ]
    },
    {
     "name": "stdout",
     "output_type": "stream",
     "text": [
      "WARNING:tensorflow:Using a while_loop for converting IO>AudioResample\n"
     ]
    },
    {
     "name": "stderr",
     "output_type": "stream",
     "text": [
      "WARNING:tensorflow:Using a while_loop for converting IO>AudioResample\n"
     ]
    },
    {
     "name": "stdout",
     "output_type": "stream",
     "text": [
      "WARNING:tensorflow:Using a while_loop for converting IO>AudioResample\n"
     ]
    },
    {
     "name": "stderr",
     "output_type": "stream",
     "text": [
      "WARNING:tensorflow:Using a while_loop for converting IO>AudioResample\n"
     ]
    },
    {
     "name": "stdout",
     "output_type": "stream",
     "text": [
      "WARNING:tensorflow:Using a while_loop for converting IO>AudioResample\n"
     ]
    },
    {
     "name": "stderr",
     "output_type": "stream",
     "text": [
      "WARNING:tensorflow:Using a while_loop for converting IO>AudioResample\n"
     ]
    },
    {
     "name": "stdout",
     "output_type": "stream",
     "text": [
      "WARNING:tensorflow:Using a while_loop for converting IO>AudioResample\n"
     ]
    },
    {
     "name": "stderr",
     "output_type": "stream",
     "text": [
      "WARNING:tensorflow:Using a while_loop for converting IO>AudioResample\n"
     ]
    },
    {
     "name": "stdout",
     "output_type": "stream",
     "text": [
      "WARNING:tensorflow:Using a while_loop for converting IO>AudioResample\n"
     ]
    },
    {
     "name": "stderr",
     "output_type": "stream",
     "text": [
      "WARNING:tensorflow:Using a while_loop for converting IO>AudioResample\n"
     ]
    },
    {
     "name": "stdout",
     "output_type": "stream",
     "text": [
      "WARNING:tensorflow:Using a while_loop for converting IO>AudioResample\n"
     ]
    },
    {
     "name": "stderr",
     "output_type": "stream",
     "text": [
      "WARNING:tensorflow:Using a while_loop for converting IO>AudioResample\n"
     ]
    },
    {
     "name": "stdout",
     "output_type": "stream",
     "text": [
      "WARNING:tensorflow:Using a while_loop for converting IO>AudioResample\n"
     ]
    },
    {
     "name": "stderr",
     "output_type": "stream",
     "text": [
      "WARNING:tensorflow:Using a while_loop for converting IO>AudioResample\n"
     ]
    },
    {
     "name": "stdout",
     "output_type": "stream",
     "text": [
      "WARNING:tensorflow:Using a while_loop for converting IO>AudioResample\n"
     ]
    },
    {
     "name": "stderr",
     "output_type": "stream",
     "text": [
      "WARNING:tensorflow:Using a while_loop for converting IO>AudioResample\n"
     ]
    },
    {
     "name": "stdout",
     "output_type": "stream",
     "text": [
      "WARNING:tensorflow:Using a while_loop for converting IO>AudioResample\n"
     ]
    },
    {
     "name": "stderr",
     "output_type": "stream",
     "text": [
      "WARNING:tensorflow:Using a while_loop for converting IO>AudioResample\n"
     ]
    },
    {
     "name": "stdout",
     "output_type": "stream",
     "text": [
      "WARNING:tensorflow:Using a while_loop for converting IO>AudioResample\n"
     ]
    },
    {
     "name": "stderr",
     "output_type": "stream",
     "text": [
      "WARNING:tensorflow:Using a while_loop for converting IO>AudioResample\n"
     ]
    },
    {
     "name": "stdout",
     "output_type": "stream",
     "text": [
      "WARNING:tensorflow:Using a while_loop for converting IO>AudioResample\n"
     ]
    },
    {
     "name": "stderr",
     "output_type": "stream",
     "text": [
      "WARNING:tensorflow:Using a while_loop for converting IO>AudioResample\n"
     ]
    },
    {
     "name": "stdout",
     "output_type": "stream",
     "text": [
      "WARNING:tensorflow:Using a while_loop for converting IO>AudioResample\n"
     ]
    },
    {
     "name": "stderr",
     "output_type": "stream",
     "text": [
      "WARNING:tensorflow:Using a while_loop for converting IO>AudioResample\n"
     ]
    },
    {
     "name": "stdout",
     "output_type": "stream",
     "text": [
      "WARNING:tensorflow:Using a while_loop for converting IO>AudioResample\n"
     ]
    },
    {
     "name": "stderr",
     "output_type": "stream",
     "text": [
      "WARNING:tensorflow:Using a while_loop for converting IO>AudioResample\n"
     ]
    },
    {
     "name": "stdout",
     "output_type": "stream",
     "text": [
      "WARNING:tensorflow:Using a while_loop for converting IO>AudioResample\n"
     ]
    },
    {
     "name": "stderr",
     "output_type": "stream",
     "text": [
      "WARNING:tensorflow:Using a while_loop for converting IO>AudioResample\n"
     ]
    },
    {
     "name": "stdout",
     "output_type": "stream",
     "text": [
      "WARNING:tensorflow:Using a while_loop for converting IO>AudioResample\n"
     ]
    },
    {
     "name": "stderr",
     "output_type": "stream",
     "text": [
      "WARNING:tensorflow:Using a while_loop for converting IO>AudioResample\n"
     ]
    },
    {
     "name": "stdout",
     "output_type": "stream",
     "text": [
      "WARNING:tensorflow:Using a while_loop for converting IO>AudioResample\n"
     ]
    },
    {
     "name": "stderr",
     "output_type": "stream",
     "text": [
      "WARNING:tensorflow:Using a while_loop for converting IO>AudioResample\n"
     ]
    },
    {
     "name": "stdout",
     "output_type": "stream",
     "text": [
      "WARNING:tensorflow:Using a while_loop for converting IO>AudioResample\n"
     ]
    },
    {
     "name": "stderr",
     "output_type": "stream",
     "text": [
      "WARNING:tensorflow:Using a while_loop for converting IO>AudioResample\n"
     ]
    },
    {
     "name": "stdout",
     "output_type": "stream",
     "text": [
      "WARNING:tensorflow:Using a while_loop for converting IO>AudioResample\n"
     ]
    },
    {
     "name": "stderr",
     "output_type": "stream",
     "text": [
      "WARNING:tensorflow:Using a while_loop for converting IO>AudioResample\n"
     ]
    },
    {
     "name": "stdout",
     "output_type": "stream",
     "text": [
      "WARNING:tensorflow:Using a while_loop for converting IO>AudioResample\n"
     ]
    },
    {
     "name": "stderr",
     "output_type": "stream",
     "text": [
      "WARNING:tensorflow:Using a while_loop for converting IO>AudioResample\n"
     ]
    },
    {
     "name": "stdout",
     "output_type": "stream",
     "text": [
      "WARNING:tensorflow:Using a while_loop for converting IO>AudioResample\n"
     ]
    },
    {
     "name": "stderr",
     "output_type": "stream",
     "text": [
      "WARNING:tensorflow:Using a while_loop for converting IO>AudioResample\n"
     ]
    },
    {
     "name": "stdout",
     "output_type": "stream",
     "text": [
      "WARNING:tensorflow:Using a while_loop for converting IO>AudioResample\n"
     ]
    },
    {
     "name": "stderr",
     "output_type": "stream",
     "text": [
      "WARNING:tensorflow:Using a while_loop for converting IO>AudioResample\n"
     ]
    },
    {
     "name": "stdout",
     "output_type": "stream",
     "text": [
      "WARNING:tensorflow:Using a while_loop for converting IO>AudioResample\n"
     ]
    },
    {
     "name": "stderr",
     "output_type": "stream",
     "text": [
      "WARNING:tensorflow:Using a while_loop for converting IO>AudioResample\n"
     ]
    },
    {
     "name": "stdout",
     "output_type": "stream",
     "text": [
      "WARNING:tensorflow:Using a while_loop for converting IO>AudioResample\n"
     ]
    },
    {
     "name": "stderr",
     "output_type": "stream",
     "text": [
      "WARNING:tensorflow:Using a while_loop for converting IO>AudioResample\n"
     ]
    },
    {
     "name": "stdout",
     "output_type": "stream",
     "text": [
      "WARNING:tensorflow:Using a while_loop for converting IO>AudioResample\n"
     ]
    },
    {
     "name": "stderr",
     "output_type": "stream",
     "text": [
      "WARNING:tensorflow:Using a while_loop for converting IO>AudioResample\n"
     ]
    },
    {
     "name": "stdout",
     "output_type": "stream",
     "text": [
      "WARNING:tensorflow:Using a while_loop for converting IO>AudioResample\n"
     ]
    },
    {
     "name": "stderr",
     "output_type": "stream",
     "text": [
      "WARNING:tensorflow:Using a while_loop for converting IO>AudioResample\n"
     ]
    },
    {
     "name": "stdout",
     "output_type": "stream",
     "text": [
      "WARNING:tensorflow:Using a while_loop for converting IO>AudioResample\n"
     ]
    },
    {
     "name": "stderr",
     "output_type": "stream",
     "text": [
      "WARNING:tensorflow:Using a while_loop for converting IO>AudioResample\n"
     ]
    },
    {
     "name": "stdout",
     "output_type": "stream",
     "text": [
      "WARNING:tensorflow:Using a while_loop for converting IO>AudioResample\n"
     ]
    },
    {
     "name": "stderr",
     "output_type": "stream",
     "text": [
      "WARNING:tensorflow:Using a while_loop for converting IO>AudioResample\n"
     ]
    },
    {
     "name": "stdout",
     "output_type": "stream",
     "text": [
      "WARNING:tensorflow:Using a while_loop for converting IO>AudioResample\n"
     ]
    },
    {
     "name": "stderr",
     "output_type": "stream",
     "text": [
      "WARNING:tensorflow:Using a while_loop for converting IO>AudioResample\n"
     ]
    },
    {
     "name": "stdout",
     "output_type": "stream",
     "text": [
      "WARNING:tensorflow:Using a while_loop for converting IO>AudioResample\n"
     ]
    },
    {
     "name": "stderr",
     "output_type": "stream",
     "text": [
      "WARNING:tensorflow:Using a while_loop for converting IO>AudioResample\n"
     ]
    },
    {
     "name": "stdout",
     "output_type": "stream",
     "text": [
      "WARNING:tensorflow:Using a while_loop for converting IO>AudioResample\n"
     ]
    },
    {
     "name": "stderr",
     "output_type": "stream",
     "text": [
      "WARNING:tensorflow:Using a while_loop for converting IO>AudioResample\n"
     ]
    },
    {
     "name": "stdout",
     "output_type": "stream",
     "text": [
      "WARNING:tensorflow:Using a while_loop for converting IO>AudioResample\n"
     ]
    },
    {
     "name": "stderr",
     "output_type": "stream",
     "text": [
      "WARNING:tensorflow:Using a while_loop for converting IO>AudioResample\n"
     ]
    },
    {
     "name": "stdout",
     "output_type": "stream",
     "text": [
      "WARNING:tensorflow:Using a while_loop for converting IO>AudioResample\n"
     ]
    },
    {
     "name": "stderr",
     "output_type": "stream",
     "text": [
      "WARNING:tensorflow:Using a while_loop for converting IO>AudioResample\n"
     ]
    },
    {
     "name": "stdout",
     "output_type": "stream",
     "text": [
      "WARNING:tensorflow:Using a while_loop for converting IO>AudioResample\n"
     ]
    },
    {
     "name": "stderr",
     "output_type": "stream",
     "text": [
      "WARNING:tensorflow:Using a while_loop for converting IO>AudioResample\n"
     ]
    },
    {
     "name": "stdout",
     "output_type": "stream",
     "text": [
      "WARNING:tensorflow:Using a while_loop for converting IO>AudioResample\n"
     ]
    },
    {
     "name": "stderr",
     "output_type": "stream",
     "text": [
      "WARNING:tensorflow:Using a while_loop for converting IO>AudioResample\n"
     ]
    },
    {
     "name": "stdout",
     "output_type": "stream",
     "text": [
      "WARNING:tensorflow:Using a while_loop for converting IO>AudioResample\n"
     ]
    },
    {
     "name": "stderr",
     "output_type": "stream",
     "text": [
      "WARNING:tensorflow:Using a while_loop for converting IO>AudioResample\n"
     ]
    },
    {
     "name": "stdout",
     "output_type": "stream",
     "text": [
      "WARNING:tensorflow:Using a while_loop for converting IO>AudioResample\n"
     ]
    },
    {
     "name": "stderr",
     "output_type": "stream",
     "text": [
      "WARNING:tensorflow:Using a while_loop for converting IO>AudioResample\n"
     ]
    },
    {
     "name": "stdout",
     "output_type": "stream",
     "text": [
      "WARNING:tensorflow:Using a while_loop for converting IO>AudioResample\n"
     ]
    },
    {
     "name": "stderr",
     "output_type": "stream",
     "text": [
      "WARNING:tensorflow:Using a while_loop for converting IO>AudioResample\n"
     ]
    },
    {
     "name": "stdout",
     "output_type": "stream",
     "text": [
      "WARNING:tensorflow:Using a while_loop for converting IO>AudioResample\n"
     ]
    },
    {
     "name": "stderr",
     "output_type": "stream",
     "text": [
      "WARNING:tensorflow:Using a while_loop for converting IO>AudioResample\n"
     ]
    },
    {
     "name": "stdout",
     "output_type": "stream",
     "text": [
      "WARNING:tensorflow:Using a while_loop for converting IO>AudioResample\n"
     ]
    },
    {
     "name": "stderr",
     "output_type": "stream",
     "text": [
      "WARNING:tensorflow:Using a while_loop for converting IO>AudioResample\n"
     ]
    },
    {
     "name": "stdout",
     "output_type": "stream",
     "text": [
      "WARNING:tensorflow:Using a while_loop for converting IO>AudioResample\n"
     ]
    },
    {
     "name": "stderr",
     "output_type": "stream",
     "text": [
      "WARNING:tensorflow:Using a while_loop for converting IO>AudioResample\n"
     ]
    },
    {
     "name": "stdout",
     "output_type": "stream",
     "text": [
      "WARNING:tensorflow:Using a while_loop for converting IO>AudioResample\n"
     ]
    },
    {
     "name": "stderr",
     "output_type": "stream",
     "text": [
      "WARNING:tensorflow:Using a while_loop for converting IO>AudioResample\n"
     ]
    },
    {
     "name": "stdout",
     "output_type": "stream",
     "text": [
      "WARNING:tensorflow:Using a while_loop for converting IO>AudioResample\n"
     ]
    },
    {
     "name": "stderr",
     "output_type": "stream",
     "text": [
      "WARNING:tensorflow:Using a while_loop for converting IO>AudioResample\n"
     ]
    },
    {
     "name": "stdout",
     "output_type": "stream",
     "text": [
      "WARNING:tensorflow:Using a while_loop for converting IO>AudioResample\n"
     ]
    },
    {
     "name": "stderr",
     "output_type": "stream",
     "text": [
      "WARNING:tensorflow:Using a while_loop for converting IO>AudioResample\n"
     ]
    },
    {
     "name": "stdout",
     "output_type": "stream",
     "text": [
      "WARNING:tensorflow:Using a while_loop for converting IO>AudioResample\n"
     ]
    },
    {
     "name": "stderr",
     "output_type": "stream",
     "text": [
      "WARNING:tensorflow:Using a while_loop for converting IO>AudioResample\n"
     ]
    },
    {
     "name": "stdout",
     "output_type": "stream",
     "text": [
      "WARNING:tensorflow:Using a while_loop for converting IO>AudioResample\n"
     ]
    },
    {
     "name": "stderr",
     "output_type": "stream",
     "text": [
      "WARNING:tensorflow:Using a while_loop for converting IO>AudioResample\n"
     ]
    },
    {
     "name": "stdout",
     "output_type": "stream",
     "text": [
      "WARNING:tensorflow:Using a while_loop for converting IO>AudioResample\n"
     ]
    },
    {
     "name": "stderr",
     "output_type": "stream",
     "text": [
      "WARNING:tensorflow:Using a while_loop for converting IO>AudioResample\n"
     ]
    },
    {
     "name": "stdout",
     "output_type": "stream",
     "text": [
      "WARNING:tensorflow:Using a while_loop for converting IO>AudioResample\n"
     ]
    },
    {
     "name": "stderr",
     "output_type": "stream",
     "text": [
      "WARNING:tensorflow:Using a while_loop for converting IO>AudioResample\n"
     ]
    },
    {
     "name": "stdout",
     "output_type": "stream",
     "text": [
      "WARNING:tensorflow:Using a while_loop for converting IO>AudioResample\n"
     ]
    },
    {
     "name": "stderr",
     "output_type": "stream",
     "text": [
      "WARNING:tensorflow:Using a while_loop for converting IO>AudioResample\n"
     ]
    },
    {
     "name": "stdout",
     "output_type": "stream",
     "text": [
      "WARNING:tensorflow:Using a while_loop for converting IO>AudioResample\n"
     ]
    },
    {
     "name": "stderr",
     "output_type": "stream",
     "text": [
      "WARNING:tensorflow:Using a while_loop for converting IO>AudioResample\n"
     ]
    },
    {
     "name": "stdout",
     "output_type": "stream",
     "text": [
      "WARNING:tensorflow:Using a while_loop for converting IO>AudioResample\n"
     ]
    },
    {
     "name": "stderr",
     "output_type": "stream",
     "text": [
      "WARNING:tensorflow:Using a while_loop for converting IO>AudioResample\n"
     ]
    },
    {
     "name": "stdout",
     "output_type": "stream",
     "text": [
      "WARNING:tensorflow:Using a while_loop for converting IO>AudioResample\n"
     ]
    },
    {
     "name": "stderr",
     "output_type": "stream",
     "text": [
      "WARNING:tensorflow:Using a while_loop for converting IO>AudioResample\n"
     ]
    },
    {
     "name": "stdout",
     "output_type": "stream",
     "text": [
      "WARNING:tensorflow:Using a while_loop for converting IO>AudioResample\n"
     ]
    },
    {
     "name": "stderr",
     "output_type": "stream",
     "text": [
      "WARNING:tensorflow:Using a while_loop for converting IO>AudioResample\n"
     ]
    },
    {
     "name": "stdout",
     "output_type": "stream",
     "text": [
      "WARNING:tensorflow:Using a while_loop for converting IO>AudioResample\n"
     ]
    },
    {
     "name": "stderr",
     "output_type": "stream",
     "text": [
      "WARNING:tensorflow:Using a while_loop for converting IO>AudioResample\n"
     ]
    },
    {
     "name": "stdout",
     "output_type": "stream",
     "text": [
      "WARNING:tensorflow:Using a while_loop for converting IO>AudioResample\n"
     ]
    },
    {
     "name": "stderr",
     "output_type": "stream",
     "text": [
      "WARNING:tensorflow:Using a while_loop for converting IO>AudioResample\n"
     ]
    },
    {
     "name": "stdout",
     "output_type": "stream",
     "text": [
      "WARNING:tensorflow:Using a while_loop for converting IO>AudioResample\n"
     ]
    },
    {
     "name": "stderr",
     "output_type": "stream",
     "text": [
      "WARNING:tensorflow:Using a while_loop for converting IO>AudioResample\n"
     ]
    },
    {
     "name": "stdout",
     "output_type": "stream",
     "text": [
      "WARNING:tensorflow:Using a while_loop for converting IO>AudioResample\n"
     ]
    },
    {
     "name": "stderr",
     "output_type": "stream",
     "text": [
      "WARNING:tensorflow:Using a while_loop for converting IO>AudioResample\n"
     ]
    },
    {
     "name": "stdout",
     "output_type": "stream",
     "text": [
      "WARNING:tensorflow:Using a while_loop for converting IO>AudioResample\n"
     ]
    },
    {
     "name": "stderr",
     "output_type": "stream",
     "text": [
      "WARNING:tensorflow:Using a while_loop for converting IO>AudioResample\n"
     ]
    },
    {
     "name": "stdout",
     "output_type": "stream",
     "text": [
      "WARNING:tensorflow:Using a while_loop for converting IO>AudioResample\n"
     ]
    },
    {
     "name": "stderr",
     "output_type": "stream",
     "text": [
      "WARNING:tensorflow:Using a while_loop for converting IO>AudioResample\n"
     ]
    },
    {
     "name": "stdout",
     "output_type": "stream",
     "text": [
      "WARNING:tensorflow:Using a while_loop for converting IO>AudioResample\n"
     ]
    },
    {
     "name": "stderr",
     "output_type": "stream",
     "text": [
      "WARNING:tensorflow:Using a while_loop for converting IO>AudioResample\n"
     ]
    },
    {
     "name": "stdout",
     "output_type": "stream",
     "text": [
      "WARNING:tensorflow:Using a while_loop for converting IO>AudioResample\n"
     ]
    },
    {
     "name": "stderr",
     "output_type": "stream",
     "text": [
      "WARNING:tensorflow:Using a while_loop for converting IO>AudioResample\n"
     ]
    },
    {
     "name": "stdout",
     "output_type": "stream",
     "text": [
      "WARNING:tensorflow:Using a while_loop for converting IO>AudioResample\n"
     ]
    },
    {
     "name": "stderr",
     "output_type": "stream",
     "text": [
      "WARNING:tensorflow:Using a while_loop for converting IO>AudioResample\n"
     ]
    },
    {
     "name": "stdout",
     "output_type": "stream",
     "text": [
      "WARNING:tensorflow:Using a while_loop for converting IO>AudioResample\n"
     ]
    },
    {
     "name": "stderr",
     "output_type": "stream",
     "text": [
      "WARNING:tensorflow:Using a while_loop for converting IO>AudioResample\n"
     ]
    },
    {
     "name": "stdout",
     "output_type": "stream",
     "text": [
      "WARNING:tensorflow:Using a while_loop for converting IO>AudioResample\n"
     ]
    },
    {
     "name": "stderr",
     "output_type": "stream",
     "text": [
      "WARNING:tensorflow:Using a while_loop for converting IO>AudioResample\n"
     ]
    },
    {
     "name": "stdout",
     "output_type": "stream",
     "text": [
      "WARNING:tensorflow:Using a while_loop for converting IO>AudioResample\n"
     ]
    },
    {
     "name": "stderr",
     "output_type": "stream",
     "text": [
      "WARNING:tensorflow:Using a while_loop for converting IO>AudioResample\n"
     ]
    },
    {
     "name": "stdout",
     "output_type": "stream",
     "text": [
      "WARNING:tensorflow:Using a while_loop for converting IO>AudioResample\n"
     ]
    },
    {
     "name": "stderr",
     "output_type": "stream",
     "text": [
      "WARNING:tensorflow:Using a while_loop for converting IO>AudioResample\n"
     ]
    },
    {
     "name": "stdout",
     "output_type": "stream",
     "text": [
      "WARNING:tensorflow:Using a while_loop for converting IO>AudioResample\n"
     ]
    },
    {
     "name": "stderr",
     "output_type": "stream",
     "text": [
      "WARNING:tensorflow:Using a while_loop for converting IO>AudioResample\n"
     ]
    },
    {
     "name": "stdout",
     "output_type": "stream",
     "text": [
      "WARNING:tensorflow:Using a while_loop for converting IO>AudioResample\n"
     ]
    },
    {
     "name": "stderr",
     "output_type": "stream",
     "text": [
      "WARNING:tensorflow:Using a while_loop for converting IO>AudioResample\n"
     ]
    },
    {
     "name": "stdout",
     "output_type": "stream",
     "text": [
      "WARNING:tensorflow:Using a while_loop for converting IO>AudioResample\n"
     ]
    },
    {
     "name": "stderr",
     "output_type": "stream",
     "text": [
      "WARNING:tensorflow:Using a while_loop for converting IO>AudioResample\n"
     ]
    },
    {
     "name": "stdout",
     "output_type": "stream",
     "text": [
      "WARNING:tensorflow:Using a while_loop for converting IO>AudioResample\n"
     ]
    },
    {
     "name": "stderr",
     "output_type": "stream",
     "text": [
      "WARNING:tensorflow:Using a while_loop for converting IO>AudioResample\n"
     ]
    },
    {
     "name": "stdout",
     "output_type": "stream",
     "text": [
      "WARNING:tensorflow:Using a while_loop for converting IO>AudioResample\n"
     ]
    },
    {
     "name": "stderr",
     "output_type": "stream",
     "text": [
      "WARNING:tensorflow:Using a while_loop for converting IO>AudioResample\n"
     ]
    },
    {
     "name": "stdout",
     "output_type": "stream",
     "text": [
      "WARNING:tensorflow:Using a while_loop for converting IO>AudioResample\n"
     ]
    },
    {
     "name": "stderr",
     "output_type": "stream",
     "text": [
      "WARNING:tensorflow:Using a while_loop for converting IO>AudioResample\n"
     ]
    },
    {
     "name": "stdout",
     "output_type": "stream",
     "text": [
      "WARNING:tensorflow:Using a while_loop for converting IO>AudioResample\n"
     ]
    },
    {
     "name": "stderr",
     "output_type": "stream",
     "text": [
      "WARNING:tensorflow:Using a while_loop for converting IO>AudioResample\n"
     ]
    },
    {
     "name": "stdout",
     "output_type": "stream",
     "text": [
      "WARNING:tensorflow:Using a while_loop for converting IO>AudioResample\n"
     ]
    },
    {
     "name": "stderr",
     "output_type": "stream",
     "text": [
      "WARNING:tensorflow:Using a while_loop for converting IO>AudioResample\n"
     ]
    },
    {
     "name": "stdout",
     "output_type": "stream",
     "text": [
      "WARNING:tensorflow:Using a while_loop for converting IO>AudioResample\n"
     ]
    },
    {
     "name": "stderr",
     "output_type": "stream",
     "text": [
      "WARNING:tensorflow:Using a while_loop for converting IO>AudioResample\n"
     ]
    },
    {
     "name": "stdout",
     "output_type": "stream",
     "text": [
      "WARNING:tensorflow:Using a while_loop for converting IO>AudioResample\n"
     ]
    },
    {
     "name": "stderr",
     "output_type": "stream",
     "text": [
      "WARNING:tensorflow:Using a while_loop for converting IO>AudioResample\n"
     ]
    },
    {
     "name": "stdout",
     "output_type": "stream",
     "text": [
      "WARNING:tensorflow:Using a while_loop for converting IO>AudioResample\n"
     ]
    },
    {
     "name": "stderr",
     "output_type": "stream",
     "text": [
      "WARNING:tensorflow:Using a while_loop for converting IO>AudioResample\n"
     ]
    },
    {
     "name": "stdout",
     "output_type": "stream",
     "text": [
      "WARNING:tensorflow:Using a while_loop for converting IO>AudioResample\n"
     ]
    },
    {
     "name": "stderr",
     "output_type": "stream",
     "text": [
      "WARNING:tensorflow:Using a while_loop for converting IO>AudioResample\n"
     ]
    },
    {
     "name": "stdout",
     "output_type": "stream",
     "text": [
      "WARNING:tensorflow:Using a while_loop for converting IO>AudioResample\n"
     ]
    },
    {
     "name": "stderr",
     "output_type": "stream",
     "text": [
      "WARNING:tensorflow:Using a while_loop for converting IO>AudioResample\n"
     ]
    },
    {
     "name": "stdout",
     "output_type": "stream",
     "text": [
      "WARNING:tensorflow:Using a while_loop for converting IO>AudioResample\n"
     ]
    },
    {
     "name": "stderr",
     "output_type": "stream",
     "text": [
      "WARNING:tensorflow:Using a while_loop for converting IO>AudioResample\n"
     ]
    },
    {
     "name": "stdout",
     "output_type": "stream",
     "text": [
      "WARNING:tensorflow:Using a while_loop for converting IO>AudioResample\n"
     ]
    },
    {
     "name": "stderr",
     "output_type": "stream",
     "text": [
      "WARNING:tensorflow:Using a while_loop for converting IO>AudioResample\n"
     ]
    },
    {
     "name": "stdout",
     "output_type": "stream",
     "text": [
      "WARNING:tensorflow:Using a while_loop for converting IO>AudioResample\n"
     ]
    },
    {
     "name": "stderr",
     "output_type": "stream",
     "text": [
      "WARNING:tensorflow:Using a while_loop for converting IO>AudioResample\n"
     ]
    },
    {
     "name": "stdout",
     "output_type": "stream",
     "text": [
      "WARNING:tensorflow:Using a while_loop for converting IO>AudioResample\n"
     ]
    },
    {
     "name": "stderr",
     "output_type": "stream",
     "text": [
      "WARNING:tensorflow:Using a while_loop for converting IO>AudioResample\n"
     ]
    },
    {
     "name": "stdout",
     "output_type": "stream",
     "text": [
      "WARNING:tensorflow:Using a while_loop for converting IO>AudioResample\n"
     ]
    },
    {
     "name": "stderr",
     "output_type": "stream",
     "text": [
      "WARNING:tensorflow:Using a while_loop for converting IO>AudioResample\n"
     ]
    },
    {
     "name": "stdout",
     "output_type": "stream",
     "text": [
      "WARNING:tensorflow:Using a while_loop for converting IO>AudioResample\n"
     ]
    },
    {
     "name": "stderr",
     "output_type": "stream",
     "text": [
      "WARNING:tensorflow:Using a while_loop for converting IO>AudioResample\n"
     ]
    },
    {
     "name": "stdout",
     "output_type": "stream",
     "text": [
      "WARNING:tensorflow:Using a while_loop for converting IO>AudioResample\n"
     ]
    },
    {
     "name": "stderr",
     "output_type": "stream",
     "text": [
      "WARNING:tensorflow:Using a while_loop for converting IO>AudioResample\n"
     ]
    },
    {
     "name": "stdout",
     "output_type": "stream",
     "text": [
      "WARNING:tensorflow:Using a while_loop for converting IO>AudioResample\n"
     ]
    },
    {
     "name": "stderr",
     "output_type": "stream",
     "text": [
      "WARNING:tensorflow:Using a while_loop for converting IO>AudioResample\n"
     ]
    },
    {
     "name": "stdout",
     "output_type": "stream",
     "text": [
      "WARNING:tensorflow:Using a while_loop for converting IO>AudioResample\n"
     ]
    },
    {
     "name": "stderr",
     "output_type": "stream",
     "text": [
      "WARNING:tensorflow:Using a while_loop for converting IO>AudioResample\n"
     ]
    },
    {
     "name": "stdout",
     "output_type": "stream",
     "text": [
      "WARNING:tensorflow:Using a while_loop for converting IO>AudioResample\n"
     ]
    },
    {
     "name": "stderr",
     "output_type": "stream",
     "text": [
      "WARNING:tensorflow:Using a while_loop for converting IO>AudioResample\n"
     ]
    },
    {
     "name": "stdout",
     "output_type": "stream",
     "text": [
      "WARNING:tensorflow:Using a while_loop for converting IO>AudioResample\n"
     ]
    },
    {
     "name": "stderr",
     "output_type": "stream",
     "text": [
      "WARNING:tensorflow:Using a while_loop for converting IO>AudioResample\n"
     ]
    },
    {
     "name": "stdout",
     "output_type": "stream",
     "text": [
      "WARNING:tensorflow:Using a while_loop for converting IO>AudioResample\n"
     ]
    },
    {
     "name": "stderr",
     "output_type": "stream",
     "text": [
      "WARNING:tensorflow:Using a while_loop for converting IO>AudioResample\n"
     ]
    },
    {
     "name": "stdout",
     "output_type": "stream",
     "text": [
      "WARNING:tensorflow:Using a while_loop for converting IO>AudioResample\n"
     ]
    },
    {
     "name": "stderr",
     "output_type": "stream",
     "text": [
      "WARNING:tensorflow:Using a while_loop for converting IO>AudioResample\n"
     ]
    },
    {
     "name": "stdout",
     "output_type": "stream",
     "text": [
      "WARNING:tensorflow:Using a while_loop for converting IO>AudioResample\n"
     ]
    },
    {
     "name": "stderr",
     "output_type": "stream",
     "text": [
      "WARNING:tensorflow:Using a while_loop for converting IO>AudioResample\n"
     ]
    },
    {
     "name": "stdout",
     "output_type": "stream",
     "text": [
      "WARNING:tensorflow:Using a while_loop for converting IO>AudioResample\n"
     ]
    },
    {
     "name": "stderr",
     "output_type": "stream",
     "text": [
      "WARNING:tensorflow:Using a while_loop for converting IO>AudioResample\n"
     ]
    },
    {
     "name": "stdout",
     "output_type": "stream",
     "text": [
      "WARNING:tensorflow:Using a while_loop for converting IO>AudioResample\n"
     ]
    },
    {
     "name": "stderr",
     "output_type": "stream",
     "text": [
      "WARNING:tensorflow:Using a while_loop for converting IO>AudioResample\n"
     ]
    },
    {
     "name": "stdout",
     "output_type": "stream",
     "text": [
      "WARNING:tensorflow:Using a while_loop for converting IO>AudioResample\n"
     ]
    },
    {
     "name": "stderr",
     "output_type": "stream",
     "text": [
      "WARNING:tensorflow:Using a while_loop for converting IO>AudioResample\n"
     ]
    },
    {
     "name": "stdout",
     "output_type": "stream",
     "text": [
      "WARNING:tensorflow:Using a while_loop for converting IO>AudioResample\n"
     ]
    },
    {
     "name": "stderr",
     "output_type": "stream",
     "text": [
      "WARNING:tensorflow:Using a while_loop for converting IO>AudioResample\n"
     ]
    },
    {
     "name": "stdout",
     "output_type": "stream",
     "text": [
      "WARNING:tensorflow:Using a while_loop for converting IO>AudioResample\n"
     ]
    },
    {
     "name": "stderr",
     "output_type": "stream",
     "text": [
      "WARNING:tensorflow:Using a while_loop for converting IO>AudioResample\n"
     ]
    },
    {
     "name": "stdout",
     "output_type": "stream",
     "text": [
      "WARNING:tensorflow:Using a while_loop for converting IO>AudioResample\n"
     ]
    },
    {
     "name": "stderr",
     "output_type": "stream",
     "text": [
      "WARNING:tensorflow:Using a while_loop for converting IO>AudioResample\n"
     ]
    },
    {
     "name": "stdout",
     "output_type": "stream",
     "text": [
      "WARNING:tensorflow:Using a while_loop for converting IO>AudioResample\n"
     ]
    },
    {
     "name": "stderr",
     "output_type": "stream",
     "text": [
      "WARNING:tensorflow:Using a while_loop for converting IO>AudioResample\n"
     ]
    },
    {
     "name": "stdout",
     "output_type": "stream",
     "text": [
      "WARNING:tensorflow:Using a while_loop for converting IO>AudioResample\n"
     ]
    },
    {
     "name": "stderr",
     "output_type": "stream",
     "text": [
      "WARNING:tensorflow:Using a while_loop for converting IO>AudioResample\n"
     ]
    },
    {
     "name": "stdout",
     "output_type": "stream",
     "text": [
      "WARNING:tensorflow:Using a while_loop for converting IO>AudioResample\n"
     ]
    },
    {
     "name": "stderr",
     "output_type": "stream",
     "text": [
      "WARNING:tensorflow:Using a while_loop for converting IO>AudioResample\n"
     ]
    },
    {
     "name": "stdout",
     "output_type": "stream",
     "text": [
      "Test set accuracy: 97%\n"
     ]
    }
   ],
   "source": [
    "test_audio = []\n",
    "test_labels = []\n",
    "\n",
    "for _, row in test_pd.iterrows():\n",
    "    test_audio.append(load_wav_16k_mono(row[\"file_name\"]))\n",
    "    test_labels.append(row['label'])\n",
    "    \n",
    "\n",
    "y_pred=[]\n",
    "for test_sound in test_audio:\n",
    "    y_pred.append(reloaded_model(test_sound))\n",
    "y_pred = np.argmax(y_pred, axis=1)\n",
    "\n",
    "\n",
    "y_true = test_labels\n",
    "\n",
    "test_acc = sum(y_pred == y_true) / len(y_true)\n",
    "print(f'Test set accuracy: {test_acc:.0%}')"
   ]
  },
  {
   "cell_type": "markdown",
   "metadata": {},
   "source": [
    "# Display a confusion matrix\n",
    "### Bir karışıklık matrisi, modelin test setindeki sınıfların her birinde ne kadar başarılı olduğunu görmek için yardımcı olur."
   ]
  },
  {
   "cell_type": "code",
   "execution_count": 36,
   "metadata": {},
   "outputs": [
    {
     "data": {
      "image/png": "[encoded data removed]",
      "text/plain": [
       "<Figure size 720x576 with 2 Axes>"
      ]
     },
     "metadata": {
      "needs_background": "light"
     },
     "output_type": "display_data"
    }
   ],
   "source": [
    "confusion_mtx = tf.math.confusion_matrix(y_true, y_pred) \n",
    "plt.figure(figsize=(10, 8))\n",
    "sns.heatmap(confusion_mtx, xticklabels=my_classes, yticklabels=my_classes, \n",
    "            annot=True, fmt='g')\n",
    "plt.xlabel('Prediction')\n",
    "plt.ylabel('Label')\n",
    "plt.show()"
   ]
  },
  {
   "cell_type": "code",
   "execution_count": null,
   "metadata": {},
   "outputs": [],
   "source": []
  }
 ],
 "metadata": {
  "kernelspec": {
   "display_name": "Python 3",
   "language": "python",
   "name": "python3"
  },
  "language_info": {
   "codemirror_mode": {
    "name": "ipython",
    "version": 3
   },
   "file_extension": ".py",
   "mimetype": "text/x-python",
   "name": "python",
   "nbconvert_exporter": "python",
   "pygments_lexer": "ipython3",
   "version": "3.8.5"
  }
 },
 "nbformat": 4,
 "nbformat_minor": 4
}
